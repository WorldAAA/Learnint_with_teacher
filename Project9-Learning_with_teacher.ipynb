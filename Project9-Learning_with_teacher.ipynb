{
 "cells": [
  {
   "cell_type": "markdown",
   "metadata": {
    "toc": true
   },
   "source": [
    "<h1>Содержание<span class=\"tocSkip\"></span></h1>\n",
    "<div class=\"toc\"><ul class=\"toc-item\"><li><span><a href=\"#Подготовка-данных\" data-toc-modified-id=\"Подготовка-данных-1\"><span class=\"toc-item-num\">1&nbsp;&nbsp;</span><strong>Подготовка данных</strong></a></span><ul class=\"toc-item\"><li><span><a href=\"#Открываем-файлы-с-данными\" data-toc-modified-id=\"Открываем-файлы-с-данными-1.1\"><span class=\"toc-item-num\">1.1&nbsp;&nbsp;</span><strong>Открываем файлы с данными</strong></a></span></li><li><span><a href=\"#Приводим-данные-к-нужным-типам\" data-toc-modified-id=\"Приводим-данные-к-нужным-типам-1.2\"><span class=\"toc-item-num\">1.2&nbsp;&nbsp;</span><strong>Приводим данные к нужным типам</strong></a></span></li><li><span><a href=\"#Проверяем-данные-на-ошибки\" data-toc-modified-id=\"Проверяем-данные-на-ошибки-1.3\"><span class=\"toc-item-num\">1.3&nbsp;&nbsp;</span><strong>Проверяем данные на ошибки</strong></a></span></li><li><span><a href=\"#Исключаем-ненужные-данные\" data-toc-modified-id=\"Исключаем-ненужные-данные-1.4\"><span class=\"toc-item-num\">1.4&nbsp;&nbsp;</span><strong>Исключаем ненужные данные</strong></a></span></li><li><span><a href=\"#Делаем-категориальные-признаки-численными\" data-toc-modified-id=\"Делаем-категориальные-признаки-численными-1.5\"><span class=\"toc-item-num\">1.5&nbsp;&nbsp;</span><strong>Делаем категориальные признаки численными</strong></a></span></li><li><span><a href=\"#Вывод\" data-toc-modified-id=\"Вывод-1.6\"><span class=\"toc-item-num\">1.6&nbsp;&nbsp;</span><strong>Вывод</strong></a></span></li></ul></li><li><span><a href=\"#Исследование-задачи\" data-toc-modified-id=\"Исследование-задачи-2\"><span class=\"toc-item-num\">2&nbsp;&nbsp;</span><strong>Исследование задачи</strong></a></span><ul class=\"toc-item\"><li><span><a href=\"#Определение-баланса-классов\" data-toc-modified-id=\"Определение-баланса-классов-2.1\"><span class=\"toc-item-num\">2.1&nbsp;&nbsp;</span><strong>Определение баланса классов</strong></a></span></li><li><span><a href=\"#Модель-решающего-дерева\" data-toc-modified-id=\"Модель-решающего-дерева-2.2\"><span class=\"toc-item-num\">2.2&nbsp;&nbsp;</span><strong>Модель решающего дерева</strong></a></span></li><li><span><a href=\"#Случайный-лес\" data-toc-modified-id=\"Случайный-лес-2.3\"><span class=\"toc-item-num\">2.3&nbsp;&nbsp;</span><strong>Случайный лес</strong></a></span></li><li><span><a href=\"#Последний-участник---Логистическая-регрессия\" data-toc-modified-id=\"Последний-участник---Логистическая-регрессия-2.4\"><span class=\"toc-item-num\">2.4&nbsp;&nbsp;</span><strong>Последний участник - Логистическая регрессия</strong></a></span></li><li><span><a href=\"#Вывод\" data-toc-modified-id=\"Вывод-2.5\"><span class=\"toc-item-num\">2.5&nbsp;&nbsp;</span><strong>Вывод</strong></a></span></li></ul></li><li><span><a href=\"#Борьба-с-дисбалансом\" data-toc-modified-id=\"Борьба-с-дисбалансом-3\"><span class=\"toc-item-num\">3&nbsp;&nbsp;</span><strong>Борьба с дисбалансом</strong></a></span><ul class=\"toc-item\"><li><span><a href=\"#Апсемплинг\" data-toc-modified-id=\"Апсемплинг-3.1\"><span class=\"toc-item-num\">3.1&nbsp;&nbsp;</span><strong>Апсемплинг</strong></a></span></li><li><span><a href=\"#Решающее-дерево.\" data-toc-modified-id=\"Решающее-дерево.-3.2\"><span class=\"toc-item-num\">3.2&nbsp;&nbsp;</span><strong>Решающее дерево.</strong></a></span></li><li><span><a href=\"#Случайный-лес:\" data-toc-modified-id=\"Случайный-лес:-3.3\"><span class=\"toc-item-num\">3.3&nbsp;&nbsp;</span><strong>Случайный лес:</strong></a></span></li><li><span><a href=\"#Даунсемплинг\" data-toc-modified-id=\"Даунсемплинг-3.4\"><span class=\"toc-item-num\">3.4&nbsp;&nbsp;</span><strong>Даунсемплинг</strong></a></span></li><li><span><a href=\"#Решающее-дерево.\" data-toc-modified-id=\"Решающее-дерево.-3.5\"><span class=\"toc-item-num\">3.5&nbsp;&nbsp;</span><strong>Решающее дерево.</strong></a></span></li><li><span><a href=\"#Случайный-лес\" data-toc-modified-id=\"Случайный-лес-3.6\"><span class=\"toc-item-num\">3.6&nbsp;&nbsp;</span><strong>Случайный лес</strong></a></span></li><li><span><a href=\"#Вывод:\" data-toc-modified-id=\"Вывод:-3.7\"><span class=\"toc-item-num\">3.7&nbsp;&nbsp;</span><strong>Вывод:</strong></a></span></li></ul></li><li><span><a href=\"#Тестирование-модели\" data-toc-modified-id=\"Тестирование-модели-4\"><span class=\"toc-item-num\">4&nbsp;&nbsp;</span><strong>Тестирование модели</strong></a></span><ul class=\"toc-item\"><li><span><a href=\"#Вывод:\" data-toc-modified-id=\"Вывод:-4.1\"><span class=\"toc-item-num\">4.1&nbsp;&nbsp;</span><strong>Вывод:</strong></a></span></li></ul></li><li><span><a href=\"#Чек-лист-готовности-проекта\" data-toc-modified-id=\"Чек-лист-готовности-проекта-5\"><span class=\"toc-item-num\">5&nbsp;&nbsp;</span><strong>Чек-лист готовности проекта</strong></a></span></li><li><span><a href=\"#Общий-вывод:\" data-toc-modified-id=\"Общий-вывод:-6\"><span class=\"toc-item-num\">6&nbsp;&nbsp;</span><strong>Общий вывод:</strong></a></span></li></ul></div>"
   ]
  },
  {
   "cell_type": "markdown",
   "metadata": {},
   "source": [
    "# **Отток клиентов**"
   ]
  },
  {
   "cell_type": "markdown",
   "metadata": {},
   "source": [
    "Из «Бета-Банка» стали уходить клиенты. Каждый месяц. Немного, но заметно. Банковские маркетологи посчитали: сохранять текущих клиентов дешевле, чем привлекать новых.\n",
    "\n",
    "Нужно спрогнозировать, уйдёт клиент из банка в ближайшее время или нет. Вам предоставлены исторические данные о поведении клиентов и расторжении договоров с банком. \n",
    "\n",
    "Постройте модель с предельно большим значением *F1*-меры. Чтобы сдать проект успешно, нужно довести метрику до 0.59. Проверьте *F1*-меру на тестовой выборке самостоятельно.\n",
    "\n",
    "Дополнительно измеряйте *AUC-ROC*, сравнивайте её значение с *F1*-мерой.\n",
    "\n",
    "Источник данных: [https://www.kaggle.com/barelydedicated/bank-customer-churn-modeling](https://www.kaggle.com/barelydedicated/bank-customer-churn-modeling)"
   ]
  },
  {
   "cell_type": "markdown",
   "metadata": {},
   "source": [
    "## **Подготовка данных**"
   ]
  },
  {
   "cell_type": "markdown",
   "metadata": {},
   "source": [
    "### **Открываем файлы с данными**"
   ]
  },
  {
   "cell_type": "markdown",
   "metadata": {},
   "source": [
    "Начнем с импорта библиотек"
   ]
  },
  {
   "cell_type": "code",
   "execution_count": 1,
   "metadata": {},
   "outputs": [],
   "source": [
    "import pandas as pd\n",
    "\n",
    "from sklearn.model_selection import train_test_split \n",
    "from sklearn.tree import DecisionTreeClassifier \n",
    "from sklearn.metrics import accuracy_score \n",
    "from sklearn.ensemble import RandomForestClassifier \n",
    "from sklearn.linear_model import LogisticRegression \n",
    "from sklearn.metrics import f1_score\n",
    "from sklearn.metrics import confusion_matrix\n",
    "from sklearn.utils import shuffle\n",
    "from sklearn.metrics import roc_auc_score\n",
    "\n",
    "from random import randint"
   ]
  },
  {
   "cell_type": "markdown",
   "metadata": {},
   "source": [
    "Затем собственно файлов"
   ]
  },
  {
   "cell_type": "code",
   "execution_count": 2,
   "metadata": {
    "scrolled": true
   },
   "outputs": [],
   "source": [
    "data=pd.read_csv('Churn.csv')"
   ]
  },
  {
   "cell_type": "markdown",
   "metadata": {},
   "source": [
    "### **Приводим данные к нужным типам**"
   ]
  },
  {
   "cell_type": "code",
   "execution_count": 3,
   "metadata": {},
   "outputs": [
    {
     "data": {
      "text/html": [
       "<div>\n",
       "<style scoped>\n",
       "    .dataframe tbody tr th:only-of-type {\n",
       "        vertical-align: middle;\n",
       "    }\n",
       "\n",
       "    .dataframe tbody tr th {\n",
       "        vertical-align: top;\n",
       "    }\n",
       "\n",
       "    .dataframe thead th {\n",
       "        text-align: right;\n",
       "    }\n",
       "</style>\n",
       "<table border=\"1\" class=\"dataframe\">\n",
       "  <thead>\n",
       "    <tr style=\"text-align: right;\">\n",
       "      <th></th>\n",
       "      <th>RowNumber</th>\n",
       "      <th>CustomerId</th>\n",
       "      <th>Surname</th>\n",
       "      <th>CreditScore</th>\n",
       "      <th>Geography</th>\n",
       "      <th>Gender</th>\n",
       "      <th>Age</th>\n",
       "      <th>Tenure</th>\n",
       "      <th>Balance</th>\n",
       "      <th>NumOfProducts</th>\n",
       "      <th>HasCrCard</th>\n",
       "      <th>IsActiveMember</th>\n",
       "      <th>EstimatedSalary</th>\n",
       "      <th>Exited</th>\n",
       "    </tr>\n",
       "  </thead>\n",
       "  <tbody>\n",
       "    <tr>\n",
       "      <th>9990</th>\n",
       "      <td>9991</td>\n",
       "      <td>15798964</td>\n",
       "      <td>Nkemakonam</td>\n",
       "      <td>714</td>\n",
       "      <td>Germany</td>\n",
       "      <td>Male</td>\n",
       "      <td>33</td>\n",
       "      <td>3.0</td>\n",
       "      <td>35016.60</td>\n",
       "      <td>1</td>\n",
       "      <td>1</td>\n",
       "      <td>0</td>\n",
       "      <td>53667.08</td>\n",
       "      <td>0</td>\n",
       "    </tr>\n",
       "    <tr>\n",
       "      <th>9991</th>\n",
       "      <td>9992</td>\n",
       "      <td>15769959</td>\n",
       "      <td>Ajuluchukwu</td>\n",
       "      <td>597</td>\n",
       "      <td>France</td>\n",
       "      <td>Female</td>\n",
       "      <td>53</td>\n",
       "      <td>4.0</td>\n",
       "      <td>88381.21</td>\n",
       "      <td>1</td>\n",
       "      <td>1</td>\n",
       "      <td>0</td>\n",
       "      <td>69384.71</td>\n",
       "      <td>1</td>\n",
       "    </tr>\n",
       "    <tr>\n",
       "      <th>9992</th>\n",
       "      <td>9993</td>\n",
       "      <td>15657105</td>\n",
       "      <td>Chukwualuka</td>\n",
       "      <td>726</td>\n",
       "      <td>Spain</td>\n",
       "      <td>Male</td>\n",
       "      <td>36</td>\n",
       "      <td>2.0</td>\n",
       "      <td>0.00</td>\n",
       "      <td>1</td>\n",
       "      <td>1</td>\n",
       "      <td>0</td>\n",
       "      <td>195192.40</td>\n",
       "      <td>0</td>\n",
       "    </tr>\n",
       "    <tr>\n",
       "      <th>9993</th>\n",
       "      <td>9994</td>\n",
       "      <td>15569266</td>\n",
       "      <td>Rahman</td>\n",
       "      <td>644</td>\n",
       "      <td>France</td>\n",
       "      <td>Male</td>\n",
       "      <td>28</td>\n",
       "      <td>7.0</td>\n",
       "      <td>155060.41</td>\n",
       "      <td>1</td>\n",
       "      <td>1</td>\n",
       "      <td>0</td>\n",
       "      <td>29179.52</td>\n",
       "      <td>0</td>\n",
       "    </tr>\n",
       "    <tr>\n",
       "      <th>9994</th>\n",
       "      <td>9995</td>\n",
       "      <td>15719294</td>\n",
       "      <td>Wood</td>\n",
       "      <td>800</td>\n",
       "      <td>France</td>\n",
       "      <td>Female</td>\n",
       "      <td>29</td>\n",
       "      <td>2.0</td>\n",
       "      <td>0.00</td>\n",
       "      <td>2</td>\n",
       "      <td>0</td>\n",
       "      <td>0</td>\n",
       "      <td>167773.55</td>\n",
       "      <td>0</td>\n",
       "    </tr>\n",
       "    <tr>\n",
       "      <th>9995</th>\n",
       "      <td>9996</td>\n",
       "      <td>15606229</td>\n",
       "      <td>Obijiaku</td>\n",
       "      <td>771</td>\n",
       "      <td>France</td>\n",
       "      <td>Male</td>\n",
       "      <td>39</td>\n",
       "      <td>5.0</td>\n",
       "      <td>0.00</td>\n",
       "      <td>2</td>\n",
       "      <td>1</td>\n",
       "      <td>0</td>\n",
       "      <td>96270.64</td>\n",
       "      <td>0</td>\n",
       "    </tr>\n",
       "    <tr>\n",
       "      <th>9996</th>\n",
       "      <td>9997</td>\n",
       "      <td>15569892</td>\n",
       "      <td>Johnstone</td>\n",
       "      <td>516</td>\n",
       "      <td>France</td>\n",
       "      <td>Male</td>\n",
       "      <td>35</td>\n",
       "      <td>10.0</td>\n",
       "      <td>57369.61</td>\n",
       "      <td>1</td>\n",
       "      <td>1</td>\n",
       "      <td>1</td>\n",
       "      <td>101699.77</td>\n",
       "      <td>0</td>\n",
       "    </tr>\n",
       "    <tr>\n",
       "      <th>9997</th>\n",
       "      <td>9998</td>\n",
       "      <td>15584532</td>\n",
       "      <td>Liu</td>\n",
       "      <td>709</td>\n",
       "      <td>France</td>\n",
       "      <td>Female</td>\n",
       "      <td>36</td>\n",
       "      <td>7.0</td>\n",
       "      <td>0.00</td>\n",
       "      <td>1</td>\n",
       "      <td>0</td>\n",
       "      <td>1</td>\n",
       "      <td>42085.58</td>\n",
       "      <td>1</td>\n",
       "    </tr>\n",
       "    <tr>\n",
       "      <th>9998</th>\n",
       "      <td>9999</td>\n",
       "      <td>15682355</td>\n",
       "      <td>Sabbatini</td>\n",
       "      <td>772</td>\n",
       "      <td>Germany</td>\n",
       "      <td>Male</td>\n",
       "      <td>42</td>\n",
       "      <td>3.0</td>\n",
       "      <td>75075.31</td>\n",
       "      <td>2</td>\n",
       "      <td>1</td>\n",
       "      <td>0</td>\n",
       "      <td>92888.52</td>\n",
       "      <td>1</td>\n",
       "    </tr>\n",
       "    <tr>\n",
       "      <th>9999</th>\n",
       "      <td>10000</td>\n",
       "      <td>15628319</td>\n",
       "      <td>Walker</td>\n",
       "      <td>792</td>\n",
       "      <td>France</td>\n",
       "      <td>Female</td>\n",
       "      <td>28</td>\n",
       "      <td>NaN</td>\n",
       "      <td>130142.79</td>\n",
       "      <td>1</td>\n",
       "      <td>1</td>\n",
       "      <td>0</td>\n",
       "      <td>38190.78</td>\n",
       "      <td>0</td>\n",
       "    </tr>\n",
       "  </tbody>\n",
       "</table>\n",
       "</div>"
      ],
      "text/plain": [
       "      RowNumber  CustomerId      Surname  CreditScore Geography  Gender  Age  \\\n",
       "9990       9991    15798964   Nkemakonam          714   Germany    Male   33   \n",
       "9991       9992    15769959  Ajuluchukwu          597    France  Female   53   \n",
       "9992       9993    15657105  Chukwualuka          726     Spain    Male   36   \n",
       "9993       9994    15569266       Rahman          644    France    Male   28   \n",
       "9994       9995    15719294         Wood          800    France  Female   29   \n",
       "9995       9996    15606229     Obijiaku          771    France    Male   39   \n",
       "9996       9997    15569892    Johnstone          516    France    Male   35   \n",
       "9997       9998    15584532          Liu          709    France  Female   36   \n",
       "9998       9999    15682355    Sabbatini          772   Germany    Male   42   \n",
       "9999      10000    15628319       Walker          792    France  Female   28   \n",
       "\n",
       "      Tenure    Balance  NumOfProducts  HasCrCard  IsActiveMember  \\\n",
       "9990     3.0   35016.60              1          1               0   \n",
       "9991     4.0   88381.21              1          1               0   \n",
       "9992     2.0       0.00              1          1               0   \n",
       "9993     7.0  155060.41              1          1               0   \n",
       "9994     2.0       0.00              2          0               0   \n",
       "9995     5.0       0.00              2          1               0   \n",
       "9996    10.0   57369.61              1          1               1   \n",
       "9997     7.0       0.00              1          0               1   \n",
       "9998     3.0   75075.31              2          1               0   \n",
       "9999     NaN  130142.79              1          1               0   \n",
       "\n",
       "      EstimatedSalary  Exited  \n",
       "9990         53667.08       0  \n",
       "9991         69384.71       1  \n",
       "9992        195192.40       0  \n",
       "9993         29179.52       0  \n",
       "9994        167773.55       0  \n",
       "9995         96270.64       0  \n",
       "9996        101699.77       0  \n",
       "9997         42085.58       1  \n",
       "9998         92888.52       1  \n",
       "9999         38190.78       0  "
      ]
     },
     "metadata": {},
     "output_type": "display_data"
    },
    {
     "name": "stdout",
     "output_type": "stream",
     "text": [
      "<class 'pandas.core.frame.DataFrame'>\n",
      "RangeIndex: 10000 entries, 0 to 9999\n",
      "Data columns (total 14 columns):\n",
      " #   Column           Non-Null Count  Dtype  \n",
      "---  ------           --------------  -----  \n",
      " 0   RowNumber        10000 non-null  int64  \n",
      " 1   CustomerId       10000 non-null  int64  \n",
      " 2   Surname          10000 non-null  object \n",
      " 3   CreditScore      10000 non-null  int64  \n",
      " 4   Geography        10000 non-null  object \n",
      " 5   Gender           10000 non-null  object \n",
      " 6   Age              10000 non-null  int64  \n",
      " 7   Tenure           9091 non-null   float64\n",
      " 8   Balance          10000 non-null  float64\n",
      " 9   NumOfProducts    10000 non-null  int64  \n",
      " 10  HasCrCard        10000 non-null  int64  \n",
      " 11  IsActiveMember   10000 non-null  int64  \n",
      " 12  EstimatedSalary  10000 non-null  float64\n",
      " 13  Exited           10000 non-null  int64  \n",
      "dtypes: float64(3), int64(8), object(3)\n",
      "memory usage: 1.1+ MB\n"
     ]
    }
   ],
   "source": [
    "display(data.tail(10))\n",
    "data.info()"
   ]
  },
  {
   "cell_type": "markdown",
   "metadata": {},
   "source": [
    "По списку столбцов, наименованиям, количеству данных в столбцах, можно засвидетельствовать, что с данными в таблице почти все в порядке - наименования таблиц корректны, типы данных корректны. Есть Nan в Tenure, о чем мы поговорим дальше."
   ]
  },
  {
   "cell_type": "markdown",
   "metadata": {},
   "source": [
    "### **Проверяем данные на ошибки**"
   ]
  },
  {
   "cell_type": "markdown",
   "metadata": {},
   "source": [
    "Ну что, как было сказано выше, у нас почти 1000 пользователей с неизвестным сроком использования банковского продукта. Так как при обучении это категорически важная информация - не вижу никаких вариантов, кроме ка исключить эти данные. Так как потеря данных только в одном столбце - то применяю dropna вообще без каких либо параметров."
   ]
  },
  {
   "cell_type": "code",
   "execution_count": 4,
   "metadata": {},
   "outputs": [],
   "source": [
    "data=data.dropna()"
   ]
  },
  {
   "cell_type": "markdown",
   "metadata": {},
   "source": [
    "То есть всего 10 значений, но и целых 10 значений. Для OHE многовато стобцов выйдет. Да и при варианте OHE не проследить увеличение \"стажа\" клиентов. Хочется этот признак оставить численным. Поэтому лучше будет прогнать генератором случайных чисел"
   ]
  },
  {
   "cell_type": "code",
   "execution_count": 5,
   "metadata": {},
   "outputs": [
    {
     "name": "stdout",
     "output_type": "stream",
     "text": [
      "<class 'pandas.core.frame.DataFrame'>\n",
      "Int64Index: 9091 entries, 0 to 9998\n",
      "Data columns (total 14 columns):\n",
      " #   Column           Non-Null Count  Dtype  \n",
      "---  ------           --------------  -----  \n",
      " 0   RowNumber        9091 non-null   int64  \n",
      " 1   CustomerId       9091 non-null   int64  \n",
      " 2   Surname          9091 non-null   object \n",
      " 3   CreditScore      9091 non-null   int64  \n",
      " 4   Geography        9091 non-null   object \n",
      " 5   Gender           9091 non-null   object \n",
      " 6   Age              9091 non-null   int64  \n",
      " 7   Tenure           9091 non-null   float64\n",
      " 8   Balance          9091 non-null   float64\n",
      " 9   NumOfProducts    9091 non-null   int64  \n",
      " 10  HasCrCard        9091 non-null   int64  \n",
      " 11  IsActiveMember   9091 non-null   int64  \n",
      " 12  EstimatedSalary  9091 non-null   float64\n",
      " 13  Exited           9091 non-null   int64  \n",
      "dtypes: float64(3), int64(8), object(3)\n",
      "memory usage: 1.0+ MB\n"
     ]
    }
   ],
   "source": [
    "data.info()"
   ]
  },
  {
   "cell_type": "markdown",
   "metadata": {},
   "source": [
    "Посмотрим что у нас в остальных столбцах. Есть ли странные данные или очевидно нелогичные выводы."
   ]
  },
  {
   "cell_type": "code",
   "execution_count": 6,
   "metadata": {},
   "outputs": [
    {
     "data": {
      "text/plain": [
       "France     4550\n",
       "Germany    2293\n",
       "Spain      2248\n",
       "Name: Geography, dtype: int64"
      ]
     },
     "execution_count": 6,
     "metadata": {},
     "output_type": "execute_result"
    }
   ],
   "source": [
    "data['Geography'].value_counts()"
   ]
  },
  {
   "cell_type": "code",
   "execution_count": 7,
   "metadata": {},
   "outputs": [
    {
     "data": {
      "text/plain": [
       "1    4687\n",
       "0    4404\n",
       "Name: IsActiveMember, dtype: int64"
      ]
     },
     "execution_count": 7,
     "metadata": {},
     "output_type": "execute_result"
    }
   ],
   "source": [
    "data['IsActiveMember'].value_counts()"
   ]
  },
  {
   "cell_type": "code",
   "execution_count": 8,
   "metadata": {},
   "outputs": [
    {
     "data": {
      "text/plain": [
       "<AxesSubplot:>"
      ]
     },
     "execution_count": 8,
     "metadata": {},
     "output_type": "execute_result"
    },
    {
     "data": {
      "image/png": "[encoded data removed]",
      "text/plain": [
       "<Figure size 432x288 with 1 Axes>"
      ]
     },
     "metadata": {
      "needs_background": "light"
     },
     "output_type": "display_data"
    }
   ],
   "source": [
    "data['EstimatedSalary'].hist(bins=50)"
   ]
  },
  {
   "cell_type": "markdown",
   "metadata": {},
   "source": [
    "Никаких неявных ошибок в данных также не видно, каких-либо нелогичных или выбивающихся из общей массы данных нет."
   ]
  },
  {
   "cell_type": "markdown",
   "metadata": {},
   "source": [
    "### **Исключаем ненужные данные**"
   ]
  },
  {
   "cell_type": "markdown",
   "metadata": {},
   "source": [
    "Нам определенно не нужны для постоения моделей столбцы с фамилиями, а столбцы RowNumber и CustomerId каждый являются уникальными, и совершенно ненужными для прогнозирования."
   ]
  },
  {
   "cell_type": "code",
   "execution_count": 9,
   "metadata": {},
   "outputs": [
    {
     "name": "stdout",
     "output_type": "stream",
     "text": [
      "9091\n",
      "9091\n"
     ]
    }
   ],
   "source": [
    "print (data['CustomerId'].value_counts().sum())\n",
    "print (data['RowNumber'].value_counts().sum())"
   ]
  },
  {
   "cell_type": "code",
   "execution_count": 10,
   "metadata": {},
   "outputs": [],
   "source": [
    "data = data.drop(columns=['RowNumber', 'CustomerId', 'Surname'])"
   ]
  },
  {
   "cell_type": "code",
   "execution_count": 11,
   "metadata": {},
   "outputs": [
    {
     "name": "stdout",
     "output_type": "stream",
     "text": [
      "<class 'pandas.core.frame.DataFrame'>\n",
      "Int64Index: 9091 entries, 0 to 9998\n",
      "Data columns (total 11 columns):\n",
      " #   Column           Non-Null Count  Dtype  \n",
      "---  ------           --------------  -----  \n",
      " 0   CreditScore      9091 non-null   int64  \n",
      " 1   Geography        9091 non-null   object \n",
      " 2   Gender           9091 non-null   object \n",
      " 3   Age              9091 non-null   int64  \n",
      " 4   Tenure           9091 non-null   float64\n",
      " 5   Balance          9091 non-null   float64\n",
      " 6   NumOfProducts    9091 non-null   int64  \n",
      " 7   HasCrCard        9091 non-null   int64  \n",
      " 8   IsActiveMember   9091 non-null   int64  \n",
      " 9   EstimatedSalary  9091 non-null   float64\n",
      " 10  Exited           9091 non-null   int64  \n",
      "dtypes: float64(3), int64(6), object(2)\n",
      "memory usage: 852.3+ KB\n"
     ]
    },
    {
     "data": {
      "text/html": [
       "<div>\n",
       "<style scoped>\n",
       "    .dataframe tbody tr th:only-of-type {\n",
       "        vertical-align: middle;\n",
       "    }\n",
       "\n",
       "    .dataframe tbody tr th {\n",
       "        vertical-align: top;\n",
       "    }\n",
       "\n",
       "    .dataframe thead th {\n",
       "        text-align: right;\n",
       "    }\n",
       "</style>\n",
       "<table border=\"1\" class=\"dataframe\">\n",
       "  <thead>\n",
       "    <tr style=\"text-align: right;\">\n",
       "      <th></th>\n",
       "      <th>CreditScore</th>\n",
       "      <th>Geography</th>\n",
       "      <th>Gender</th>\n",
       "      <th>Age</th>\n",
       "      <th>Tenure</th>\n",
       "      <th>Balance</th>\n",
       "      <th>NumOfProducts</th>\n",
       "      <th>HasCrCard</th>\n",
       "      <th>IsActiveMember</th>\n",
       "      <th>EstimatedSalary</th>\n",
       "      <th>Exited</th>\n",
       "    </tr>\n",
       "  </thead>\n",
       "  <tbody>\n",
       "    <tr>\n",
       "      <th>0</th>\n",
       "      <td>619</td>\n",
       "      <td>France</td>\n",
       "      <td>Female</td>\n",
       "      <td>42</td>\n",
       "      <td>2.0</td>\n",
       "      <td>0.00</td>\n",
       "      <td>1</td>\n",
       "      <td>1</td>\n",
       "      <td>1</td>\n",
       "      <td>101348.88</td>\n",
       "      <td>1</td>\n",
       "    </tr>\n",
       "    <tr>\n",
       "      <th>1</th>\n",
       "      <td>608</td>\n",
       "      <td>Spain</td>\n",
       "      <td>Female</td>\n",
       "      <td>41</td>\n",
       "      <td>1.0</td>\n",
       "      <td>83807.86</td>\n",
       "      <td>1</td>\n",
       "      <td>0</td>\n",
       "      <td>1</td>\n",
       "      <td>112542.58</td>\n",
       "      <td>0</td>\n",
       "    </tr>\n",
       "    <tr>\n",
       "      <th>2</th>\n",
       "      <td>502</td>\n",
       "      <td>France</td>\n",
       "      <td>Female</td>\n",
       "      <td>42</td>\n",
       "      <td>8.0</td>\n",
       "      <td>159660.80</td>\n",
       "      <td>3</td>\n",
       "      <td>1</td>\n",
       "      <td>0</td>\n",
       "      <td>113931.57</td>\n",
       "      <td>1</td>\n",
       "    </tr>\n",
       "    <tr>\n",
       "      <th>3</th>\n",
       "      <td>699</td>\n",
       "      <td>France</td>\n",
       "      <td>Female</td>\n",
       "      <td>39</td>\n",
       "      <td>1.0</td>\n",
       "      <td>0.00</td>\n",
       "      <td>2</td>\n",
       "      <td>0</td>\n",
       "      <td>0</td>\n",
       "      <td>93826.63</td>\n",
       "      <td>0</td>\n",
       "    </tr>\n",
       "    <tr>\n",
       "      <th>4</th>\n",
       "      <td>850</td>\n",
       "      <td>Spain</td>\n",
       "      <td>Female</td>\n",
       "      <td>43</td>\n",
       "      <td>2.0</td>\n",
       "      <td>125510.82</td>\n",
       "      <td>1</td>\n",
       "      <td>1</td>\n",
       "      <td>1</td>\n",
       "      <td>79084.10</td>\n",
       "      <td>0</td>\n",
       "    </tr>\n",
       "  </tbody>\n",
       "</table>\n",
       "</div>"
      ],
      "text/plain": [
       "   CreditScore Geography  Gender  Age  Tenure    Balance  NumOfProducts  \\\n",
       "0          619    France  Female   42     2.0       0.00              1   \n",
       "1          608     Spain  Female   41     1.0   83807.86              1   \n",
       "2          502    France  Female   42     8.0  159660.80              3   \n",
       "3          699    France  Female   39     1.0       0.00              2   \n",
       "4          850     Spain  Female   43     2.0  125510.82              1   \n",
       "\n",
       "   HasCrCard  IsActiveMember  EstimatedSalary  Exited  \n",
       "0          1               1        101348.88       1  \n",
       "1          0               1        112542.58       0  \n",
       "2          1               0        113931.57       1  \n",
       "3          0               0         93826.63       0  \n",
       "4          1               1         79084.10       0  "
      ]
     },
     "metadata": {},
     "output_type": "display_data"
    }
   ],
   "source": [
    "data.info()\n",
    "display (data.head(5))"
   ]
  },
  {
   "cell_type": "markdown",
   "metadata": {},
   "source": [
    "### **Делаем категориальные признаки численными**"
   ]
  },
  {
   "cell_type": "markdown",
   "metadata": {},
   "source": [
    "И столбец со страной и стобец с полом нам не нужны в категориальном виде, перейдем на численный тип по принципу OHE, так как хочется потом прогнать датасет и по логистической регрессии."
   ]
  },
  {
   "cell_type": "code",
   "execution_count": 12,
   "metadata": {},
   "outputs": [],
   "source": [
    "data = pd.get_dummies(data, columns=['Gender', 'Geography'], drop_first=True)"
   ]
  },
  {
   "cell_type": "code",
   "execution_count": 13,
   "metadata": {},
   "outputs": [
    {
     "data": {
      "text/html": [
       "<div>\n",
       "<style scoped>\n",
       "    .dataframe tbody tr th:only-of-type {\n",
       "        vertical-align: middle;\n",
       "    }\n",
       "\n",
       "    .dataframe tbody tr th {\n",
       "        vertical-align: top;\n",
       "    }\n",
       "\n",
       "    .dataframe thead th {\n",
       "        text-align: right;\n",
       "    }\n",
       "</style>\n",
       "<table border=\"1\" class=\"dataframe\">\n",
       "  <thead>\n",
       "    <tr style=\"text-align: right;\">\n",
       "      <th></th>\n",
       "      <th>CreditScore</th>\n",
       "      <th>Age</th>\n",
       "      <th>Tenure</th>\n",
       "      <th>Balance</th>\n",
       "      <th>NumOfProducts</th>\n",
       "      <th>HasCrCard</th>\n",
       "      <th>IsActiveMember</th>\n",
       "      <th>EstimatedSalary</th>\n",
       "      <th>Exited</th>\n",
       "      <th>Gender_Male</th>\n",
       "      <th>Geography_Germany</th>\n",
       "      <th>Geography_Spain</th>\n",
       "    </tr>\n",
       "  </thead>\n",
       "  <tbody>\n",
       "    <tr>\n",
       "      <th>0</th>\n",
       "      <td>619</td>\n",
       "      <td>42</td>\n",
       "      <td>2.0</td>\n",
       "      <td>0.00</td>\n",
       "      <td>1</td>\n",
       "      <td>1</td>\n",
       "      <td>1</td>\n",
       "      <td>101348.88</td>\n",
       "      <td>1</td>\n",
       "      <td>0</td>\n",
       "      <td>0</td>\n",
       "      <td>0</td>\n",
       "    </tr>\n",
       "    <tr>\n",
       "      <th>1</th>\n",
       "      <td>608</td>\n",
       "      <td>41</td>\n",
       "      <td>1.0</td>\n",
       "      <td>83807.86</td>\n",
       "      <td>1</td>\n",
       "      <td>0</td>\n",
       "      <td>1</td>\n",
       "      <td>112542.58</td>\n",
       "      <td>0</td>\n",
       "      <td>0</td>\n",
       "      <td>0</td>\n",
       "      <td>1</td>\n",
       "    </tr>\n",
       "    <tr>\n",
       "      <th>2</th>\n",
       "      <td>502</td>\n",
       "      <td>42</td>\n",
       "      <td>8.0</td>\n",
       "      <td>159660.80</td>\n",
       "      <td>3</td>\n",
       "      <td>1</td>\n",
       "      <td>0</td>\n",
       "      <td>113931.57</td>\n",
       "      <td>1</td>\n",
       "      <td>0</td>\n",
       "      <td>0</td>\n",
       "      <td>0</td>\n",
       "    </tr>\n",
       "    <tr>\n",
       "      <th>3</th>\n",
       "      <td>699</td>\n",
       "      <td>39</td>\n",
       "      <td>1.0</td>\n",
       "      <td>0.00</td>\n",
       "      <td>2</td>\n",
       "      <td>0</td>\n",
       "      <td>0</td>\n",
       "      <td>93826.63</td>\n",
       "      <td>0</td>\n",
       "      <td>0</td>\n",
       "      <td>0</td>\n",
       "      <td>0</td>\n",
       "    </tr>\n",
       "    <tr>\n",
       "      <th>4</th>\n",
       "      <td>850</td>\n",
       "      <td>43</td>\n",
       "      <td>2.0</td>\n",
       "      <td>125510.82</td>\n",
       "      <td>1</td>\n",
       "      <td>1</td>\n",
       "      <td>1</td>\n",
       "      <td>79084.10</td>\n",
       "      <td>0</td>\n",
       "      <td>0</td>\n",
       "      <td>0</td>\n",
       "      <td>1</td>\n",
       "    </tr>\n",
       "  </tbody>\n",
       "</table>\n",
       "</div>"
      ],
      "text/plain": [
       "   CreditScore  Age  Tenure    Balance  NumOfProducts  HasCrCard  \\\n",
       "0          619   42     2.0       0.00              1          1   \n",
       "1          608   41     1.0   83807.86              1          0   \n",
       "2          502   42     8.0  159660.80              3          1   \n",
       "3          699   39     1.0       0.00              2          0   \n",
       "4          850   43     2.0  125510.82              1          1   \n",
       "\n",
       "   IsActiveMember  EstimatedSalary  Exited  Gender_Male  Geography_Germany  \\\n",
       "0               1        101348.88       1            0                  0   \n",
       "1               1        112542.58       0            0                  0   \n",
       "2               0        113931.57       1            0                  0   \n",
       "3               0         93826.63       0            0                  0   \n",
       "4               1         79084.10       0            0                  0   \n",
       "\n",
       "   Geography_Spain  \n",
       "0                0  \n",
       "1                1  \n",
       "2                0  \n",
       "3                0  \n",
       "4                1  "
      ]
     },
     "metadata": {},
     "output_type": "display_data"
    }
   ],
   "source": [
    "display (data.head(5))"
   ]
  },
  {
   "cell_type": "markdown",
   "metadata": {},
   "source": [
    "Теперь у нас в датасете одни циферки (из которых без подсказки можно понять все, кроме того что человек из Франции). Идем дальше."
   ]
  },
  {
   "cell_type": "markdown",
   "metadata": {},
   "source": [
    "### **Вывод**"
   ]
  },
  {
   "cell_type": "markdown",
   "metadata": {},
   "source": [
    "В данном разделе был открыт и изучен исследуемый датасет на предмет неверных типов данных, отсутствующих данных, логических ошибок в данных.\n",
    "\n",
    "Датасет представлен корректный, к сожалению отсутствующие данные по одной из важных граф (года сколько человек является клиентом банка) привели к необходимости удалить строки с этими данными из датасета, так как данные безусловно влияют на принятие решения клиентом, а воспроизвести их неоткуда.\n",
    "\n",
    "Также мы исключили ненужные для построения моделей графы с именем и фамилией и заменили все категориальные признаки численными по принципу OHE."
   ]
  },
  {
   "cell_type": "markdown",
   "metadata": {},
   "source": [
    "## **Исследование задачи**"
   ]
  },
  {
   "cell_type": "markdown",
   "metadata": {},
   "source": [
    "### **Определение баланса классов**"
   ]
  },
  {
   "cell_type": "markdown",
   "metadata": {},
   "source": [
    "Определим баланс классов как пропорцию между положительным/отрицательным целевым признаком и общим объемом данных:"
   ]
  },
  {
   "cell_type": "code",
   "execution_count": 14,
   "metadata": {},
   "outputs": [
    {
     "name": "stdout",
     "output_type": "stream",
     "text": [
      "Всего доля в датафрейме лояльных клиентов: 0.7960620393796062\n",
      "Всего доля в датафрейме ушедших клиентов: 0.2039379606203938\n",
      "3.903451995685005\n"
     ]
    }
   ],
   "source": [
    "print ('Всего доля в датафрейме лояльных клиентов:', data[data['Exited']==0]['Exited'].count() /data['Exited'].count())\n",
    "print ('Всего доля в датафрейме ушедших клиентов:', data[data['Exited']==1]['Exited'].count() /data['Exited'].count())\n",
    "leaved_persent = (data[data['Exited']==0]['Exited'].count() /data['Exited'].count()) / (data[data['Exited']==1]['Exited'].count() /data['Exited'].count())\n",
    "print (leaved_persent)"
   ]
  },
  {
   "cell_type": "markdown",
   "metadata": {},
   "source": [
    "Ну чтож, дисбаланс есть: по датафрейму на одного ушедшего клиента - 3.9 лояльных. Будем иметь это в виду при работе с дисбалансом."
   ]
  },
  {
   "cell_type": "markdown",
   "metadata": {},
   "source": [
    "Согласно заданию, обучим модель без учета дисбаланса.\n",
    "\n",
    "Выделим из модели целевые признаки и признаки для обучения, а после, разобьем датасет на обучаемую, валидационную и тестовую выборки. Разбивку сделаем в пропорции (3:1:1)"
   ]
  },
  {
   "cell_type": "code",
   "execution_count": 15,
   "metadata": {},
   "outputs": [],
   "source": [
    "target = data['Exited']\n",
    "features = data.drop(columns=['Exited'])\n",
    "\n",
    "features_train, features_temp, target_train, target_temp = train_test_split(features, target, test_size=0.4, random_state=1)\n",
    "features_valid, features_test, target_valid, target_test= train_test_split(features_temp, target_temp, test_size=0.5, random_state=1)"
   ]
  },
  {
   "cell_type": "code",
   "execution_count": 16,
   "metadata": {
    "scrolled": false
   },
   "outputs": [
    {
     "name": "stdout",
     "output_type": "stream",
     "text": [
      "(5454, 11)\n",
      "(1818, 11)\n",
      "(1819, 11)\n",
      "(5454,)\n",
      "(1818,)\n",
      "(1819,)\n"
     ]
    }
   ],
   "source": [
    "print (features_train.shape)\n",
    "print (features_valid.shape)\n",
    "print (features_test.shape)\n",
    "print (target_train.shape)\n",
    "print (target_valid.shape)\n",
    "print (target_test.shape)"
   ]
  },
  {
   "cell_type": "markdown",
   "metadata": {},
   "source": [
    "### **Модель решающего дерева**\n",
    "\n",
    "Будем в модели играться гиперпараметрами, а именно max_depth. Здесь и далее будем искать модели с лучшим F1:"
   ]
  },
  {
   "cell_type": "code",
   "execution_count": 17,
   "metadata": {},
   "outputs": [
    {
     "name": "stdout",
     "output_type": "stream",
     "text": [
      "При глубине дерева 1 доля правильных ответов: 0.8058305830583058 a f1: 0.0 с матрицей ошибок: \n",
      " [[1465    0]\n",
      " [ 353    0]]\n",
      "При глубине дерева 2 доля правильных ответов: 0.8371837183718371 a f1: 0.4657039711191336 с матрицей ошибок: \n",
      " [[1393   72]\n",
      " [ 224  129]]\n",
      "При глубине дерева 3 доля правильных ответов: 0.8360836083608361 a f1: 0.45818181818181813 с матрицей ошибок: \n",
      " [[1394   71]\n",
      " [ 227  126]]\n",
      "При глубине дерева 4 доля правильных ответов: 0.8366336633663366 a f1: 0.36942675159235666 с матрицей ошибок: \n",
      " [[1434   31]\n",
      " [ 266   87]]\n",
      "При глубине дерева 5 доля правильных ответов: 0.8437843784378438 a f1: 0.4132231404958678 с матрицей ошибок: \n",
      " [[1434   31]\n",
      " [ 253  100]]\n",
      "При глубине дерева 6 доля правильных ответов: 0.847084708470847 a f1: 0.49084249084249076 с матрицей ошибок: \n",
      " [[1406   59]\n",
      " [ 219  134]]\n",
      "При глубине дерева 7 доля правильных ответов: 0.8514851485148515 a f1: 0.5036764705882353 с матрицей ошибок: \n",
      " [[1411   54]\n",
      " [ 216  137]]\n",
      "При глубине дерева 8 доля правильных ответов: 0.8388338833883389 a f1: 0.4991452991452991 с матрицей ошибок: \n",
      " [[1379   86]\n",
      " [ 207  146]]\n",
      "При глубине дерева 9 доля правильных ответов: 0.8201320132013201 a f1: 0.48177496038034867 с матрицей ошибок: \n",
      " [[1339  126]\n",
      " [ 201  152]]\n",
      "При глубине дерева 10 доля правильных ответов: 0.8278327832783279 a f1: 0.5086342229199372 с матрицей ошибок: \n",
      " [[1343  122]\n",
      " [ 191  162]]\n",
      "При глубине дерева 11 доля правильных ответов: 0.8184818481848185 a f1: 0.4907407407407408 с матрицей ошибок: \n",
      " [[1329  136]\n",
      " [ 194  159]]\n",
      "При глубине дерева 12 доля правильных ответов: 0.8102310231023102 a f1: 0.4963503649635037 с матрицей ошибок: \n",
      " [[1303  162]\n",
      " [ 183  170]]\n",
      "При глубине дерева 13 доля правильных ответов: 0.8047304730473047 a f1: 0.4817518248175182 с матрицей ошибок: \n",
      " [[1298  167]\n",
      " [ 188  165]]\n",
      "При глубине дерева 14 доля правильных ответов: 0.8014301430143014 a f1: 0.4790764790764791 с матрицей ошибок: \n",
      " [[1291  174]\n",
      " [ 187  166]]\n",
      "При глубине дерева 15 доля правильных ответов: 0.7937293729372937 a f1: 0.47257383966244726 с матрицей ошибок: \n",
      " [[1275  190]\n",
      " [ 185  168]]\n",
      "При глубине дерева 16 доля правильных ответов: 0.7849284928492849 a f1: 0.4591977869986169 с матрицей ошибок: \n",
      " [[1261  204]\n",
      " [ 187  166]]\n",
      "При глубине дерева 17 доля правильных ответов: 0.7882288228822882 a f1: 0.4600280504908836 с матрицей ошибок: \n",
      " [[1269  196]\n",
      " [ 189  164]]\n",
      "При глубине дерева 18 доля правильных ответов: 0.7882288228822882 a f1: 0.46601941747572817 с матрицей ошибок: \n",
      " [[1265  200]\n",
      " [ 185  168]]\n",
      "При глубине дерева 19 доля правильных ответов: 0.7942794279427943 a f1: 0.47619047619047616 с матрицей ошибок: \n",
      " [[1274  191]\n",
      " [ 183  170]]\n",
      "При глубине дерева 20 доля правильных ответов: 0.786028602860286 a f1: 0.463448275862069 с матрицей ошибок: \n",
      " [[1261  204]\n",
      " [ 185  168]]\n",
      "При глубине дерева 21 доля правильных ответов: 0.7882288228822882 a f1: 0.46749654218533887 с матрицей ошибок: \n",
      " [[1264  201]\n",
      " [ 184  169]]\n",
      "При глубине дерева 22 доля правильных ответов: 0.7876787678767877 a f1: 0.46537396121883656 с матрицей ошибок: \n",
      " [[1264  201]\n",
      " [ 185  168]]\n",
      "При глубине дерева 23 доля правильных ответов: 0.7876787678767877 a f1: 0.46537396121883656 с матрицей ошибок: \n",
      " [[1264  201]\n",
      " [ 185  168]]\n",
      "При глубине дерева 24 доля правильных ответов: 0.7876787678767877 a f1: 0.46537396121883656 с матрицей ошибок: \n",
      " [[1264  201]\n",
      " [ 185  168]]\n",
      "При глубине дерева 25 доля правильных ответов: 0.7876787678767877 a f1: 0.46537396121883656 с матрицей ошибок: \n",
      " [[1264  201]\n",
      " [ 185  168]]\n",
      "При глубине дерева 26 доля правильных ответов: 0.7876787678767877 a f1: 0.46537396121883656 с матрицей ошибок: \n",
      " [[1264  201]\n",
      " [ 185  168]]\n",
      "При глубине дерева 27 доля правильных ответов: 0.7876787678767877 a f1: 0.46537396121883656 с матрицей ошибок: \n",
      " [[1264  201]\n",
      " [ 185  168]]\n",
      "При глубине дерева 28 доля правильных ответов: 0.7876787678767877 a f1: 0.46537396121883656 с матрицей ошибок: \n",
      " [[1264  201]\n",
      " [ 185  168]]\n",
      "При глубине дерева 29 доля правильных ответов: 0.7876787678767877 a f1: 0.46537396121883656 с матрицей ошибок: \n",
      " [[1264  201]\n",
      " [ 185  168]]\n",
      "Accuracy лучшей модели: 0.8278327832783279 достигается при параметре max_depth, равном: 10 a f1 = : 0.5086342229199372 a auc-roc = : 0.6878235311179649\n"
     ]
    }
   ],
   "source": [
    "best_DecisionTree_max_depth = 0\n",
    "best_DecisionTree_result = 0\n",
    "best_DecisionTree_model = 0\n",
    "best_DecisionTree_f1 = 0\n",
    "best_DecisionTree = []\n",
    "best_DecisionTree_aucroc=0\n",
    "\n",
    "for depth in range(1, 30):\n",
    "    model_DecisionTree = DecisionTreeClassifier(random_state=432, max_depth=depth)\n",
    "    model_DecisionTree.fit(features_train, target_train)\n",
    "    answers_DecisionTree = model_DecisionTree.predict(features_valid)\n",
    "    result = accuracy_score (target_valid, answers_DecisionTree)\n",
    "    f1 = f1_score(target_valid, answers_DecisionTree)\n",
    "    auc_roc = roc_auc_score(target_valid, answers_DecisionTree)\n",
    "    #result = model_DecisionTree.score (target_valid, answers_DecisionTree)\n",
    "    print ('При глубине дерева', depth, 'доля правильных ответов:', result, 'a f1:', f1,   'с матрицей ошибок:', '\\n', confusion_matrix(target_valid, answers_DecisionTree))\n",
    "    if f1 > best_DecisionTree_f1:\n",
    "        best_DecisionTree_max_depth = depth\n",
    "        best_DecisionTree_result = result\n",
    "        best_DecisionTree_aucroc=auc_roc\n",
    "        best_DecisionTree_f1 = f1\n",
    "        best_DecisionTree = model_DecisionTree\n",
    "        best_DecisionTree_aucroc = auc_roc\n",
    "\n",
    "\n",
    "print(\"Accuracy лучшей модели:\", best_DecisionTree_result, 'достигается при параметре max_depth, равном:', best_DecisionTree_max_depth, 'a f1 = :', best_DecisionTree_f1,'a auc-roc = :' , best_DecisionTree_aucroc)"
   ]
  },
  {
   "cell_type": "markdown",
   "metadata": {},
   "source": [
    "Пока мы добились лишь f=0.508, когда нам нужно 0.59. Плохо, но движемся дальше к другим моделям.  Auc-roc в 0.68 показывает что мы вполне себе получше чем случайная модель."
   ]
  },
  {
   "cell_type": "markdown",
   "metadata": {},
   "source": [
    "### **Случайный лес** "
   ]
  },
  {
   "cell_type": "markdown",
   "metadata": {},
   "source": [
    "В случайном лесе мы будем перебирать параметры количества деревьев n_estimators и глубину max_depth:"
   ]
  },
  {
   "cell_type": "code",
   "execution_count": 18,
   "metadata": {},
   "outputs": [],
   "source": [
    "import time"
   ]
  },
  {
   "cell_type": "code",
   "execution_count": 19,
   "metadata": {},
   "outputs": [
    {
     "name": "stdout",
     "output_type": "stream",
     "text": [
      "При количестве деревьев и глубине 30 15 f1: 0.5272407732864675 aucroc: 0.6899389919655029\n",
      "При количестве деревьев и глубине 30 16 f1: 0.5607142857142857 aucroc: 0.7053147569830511\n",
      "При количестве деревьев и глубине 30 17 f1: 0.5409252669039146 aucroc: 0.6958435255102533\n",
      "При количестве деревьев и глубине 30 18 f1: 0.5338078291814946 aucroc: 0.6923280704637964\n",
      "При количестве деревьев и глубине 30 19 f1: 0.5435168738898757 aucroc: 0.6972599561051542\n",
      "При количестве деревьев и глубине 30 20 f1: 0.547703180212014 aucroc: 0.6997515203666284\n",
      "При количестве деревьев и глубине 30 21 f1: 0.5470692717584369 aucroc: 0.6990176836283828\n",
      "При количестве деревьев и глубине 30 22 f1: 0.5245901639344263 aucroc: 0.6862185653926849\n",
      "При количестве деревьев и глубине 30 23 f1: 0.5304659498207885 aucroc: 0.69017780313065\n",
      "При количестве деревьев и глубине 30 24 f1: 0.5299455535390198 aucroc: 0.6890514265824865\n",
      "При количестве деревьев и глубине 31 15 f1: 0.5229681978798586 aucroc: 0.6874474277040289\n",
      "При количестве деревьев и глубине 31 16 f1: 0.561278863232682 aucroc: 0.7060485937212968\n",
      "При количестве деревьев и глубине 31 17 f1: 0.5502645502645502 aucroc: 0.7011679509615292\n",
      "При количестве деревьев и глубине 31 18 f1: 0.5406360424028268 aucroc: 0.6962360653201713\n",
      "При количестве деревьев и глубине 31 19 f1: 0.5441696113074205 aucroc: 0.6979937928433998\n",
      "При количестве деревьев и глубине 31 20 f1: 0.5561312607944732 aucroc: 0.7058610254377399\n",
      "При количестве деревьев и глубине 31 21 f1: 0.5614035087719299 aucroc: 0.7071749702694602\n",
      "При количестве деревьев и глубине 31 22 f1: 0.5345132743362833 aucroc: 0.693061907202042\n",
      "При количестве деревьев и глубине 31 23 f1: 0.5309734513274337 aucroc: 0.6913041796788134\n",
      "При количестве деревьев и глубине 31 24 f1: 0.53475935828877 aucroc: 0.692669367392124\n",
      "При количестве деревьев и глубине 32 15 f1: 0.5394045534150613 aucroc: 0.6962873082017615\n",
      "При количестве деревьев и глубине 32 16 f1: 0.557142857142857 aucroc: 0.7035570294598227\n",
      "При количестве деревьев и глубине 32 17 f1: 0.5425531914893618 aucroc: 0.6969186591768266\n",
      "При количестве деревьев и глубине 32 18 f1: 0.525 aucroc: 0.6877374817507663\n",
      "При количестве деревьев и глубине 32 19 f1: 0.5457809694793536 aucroc: 0.6975500101518917\n",
      "При количестве деревьев и глубине 32 20 f1: 0.5541740674955595 aucroc: 0.7025331386748397\n",
      "При количестве деревьев и глубине 32 21 f1: 0.5428571428571429 aucroc: 0.6965261193669087\n",
      "При количестве деревьев и глубине 32 22 f1: 0.5342960288808665 aucroc: 0.6915429908439606\n",
      "При количестве деревьев и глубине 32 23 f1: 0.5340501792114696 aucroc: 0.6919355306538785\n",
      "При количестве деревьев и глубине 32 24 f1: 0.5218978102189781 aucroc: 0.684802134797784\n",
      "При количестве деревьев и глубине 33 15 f1: 0.5375218150087261 aucroc: 0.6956047143451063\n",
      "При количестве деревьев и глубине 33 16 f1: 0.5602836879432623 aucroc: 0.7057072967929692\n",
      "При количестве деревьев и глубине 33 17 f1: 0.547703180212014 aucroc: 0.6997515203666284\n",
      "При количестве деревьев и глубине 33 18 f1: 0.5390070921985817 aucroc: 0.6951609316535982\n",
      "При количестве деревьев и глубине 33 19 f1: 0.5470692717584369 aucroc: 0.6990176836283828\n",
      "При количестве деревьев и глубине 33 20 f1: 0.5625 aucroc: 0.7086426437459513\n",
      "При количестве деревьев и глубине 33 21 f1: 0.5578947368421052 aucroc: 0.7054172427462317\n",
      "При количестве деревьев и глубине 33 22 f1: 0.5350089766606821 aucroc: 0.6922768275822061\n",
      "При количестве деревьев и глубине 33 23 f1: 0.5396825396825397 aucroc: 0.6958947683918436\n",
      "При количестве деревьев и глубине 33 24 f1: 0.5366726296958855 aucroc: 0.6933519612487794\n",
      "При количестве деревьев и глубине 34 15 f1: 0.5384615384615384 aucroc: 0.6959460112734339\n",
      "При количестве деревьев и глубине 34 16 f1: 0.554561717352415 aucroc: 0.7021405988649219\n",
      "При количестве деревьев и глубине 34 17 f1: 0.5383244206773619 aucroc: 0.6944270949153525\n",
      "При количестве деревьев и глубине 34 18 f1: 0.5257548845470693 aucroc: 0.6884713184890119\n",
      "При количестве деревьев и глубине 34 19 f1: 0.5457809694793536 aucroc: 0.6975500101518917\n",
      "При количестве деревьев и глубине 34 20 f1: 0.5602836879432623 aucroc: 0.7057072967929692\n",
      "При количестве деревьев и глубине 34 21 f1: 0.5366726296958855 aucroc: 0.6933519612487794\n",
      "При количестве деревьев и глубине 34 22 f1: 0.5299455535390198 aucroc: 0.6890514265824865\n",
      "При количестве деревьев и глубине 34 23 f1: 0.5340501792114696 aucroc: 0.6919355306538785\n",
      "При количестве деревьев и глубине 34 24 f1: 0.5255474452554744 aucroc: 0.6865598623210125\n",
      "При количестве деревьев и глубине 35 15 f1: 0.5375218150087261 aucroc: 0.6956047143451063\n",
      "При количестве деревьев и глубине 35 16 f1: 0.5607142857142857 aucroc: 0.7053147569830511\n",
      "При количестве деревьев и глубине 35 17 f1: 0.54673721340388 aucroc: 0.6994102234383007\n",
      "При количестве деревьев и глубине 35 18 f1: 0.5499124343257443 aucroc: 0.701560490771447\n",
      "При количестве деревьев и глубине 35 19 f1: 0.5547703180212015 aucroc: 0.7032669754130854\n",
      "При количестве деревьев и глубине 35 20 f1: 0.5649913344887348 aucroc: 0.7100590743408521\n",
      "При количестве деревьев и глубине 35 21 f1: 0.5492957746478873 aucroc: 0.7008266540332015\n",
      "При количестве деревьев и глубине 35 22 f1: 0.5340501792114696 aucroc: 0.6919355306538785\n",
      "При количестве деревьев и глубине 35 23 f1: 0.537785588752197 aucroc: 0.6952121745351885\n",
      "При количестве деревьев и глубине 35 24 f1: 0.5354609929078014 aucroc: 0.6934032041303696\n",
      "При количестве деревьев и глубине 36 15 f1: 0.5359019264448337 aucroc: 0.6945295806785332\n",
      "При количестве деревьев и глубине 36 16 f1: 0.5597147950089127 aucroc: 0.7049734600547235\n",
      "При количестве деревьев и глубине 36 17 f1: 0.5409252669039146 aucroc: 0.6958435255102533\n",
      "При количестве деревьев и глубине 36 18 f1: 0.5361552028218696 aucroc: 0.6941370408686152\n",
      "При количестве деревьев и глубине 36 19 f1: 0.5480427046263344 aucroc: 0.6993589805567103\n",
      "При количестве деревьев и глубине 36 20 f1: 0.5598591549295775 aucroc: 0.706099836602887\n",
      "При количестве деревьев и глубине 36 21 f1: 0.5444839857651246 aucroc: 0.6976012530334819\n",
      "При количестве деревьев и глубине 36 22 f1: 0.5335753176043558 aucroc: 0.6908091541057151\n",
      "При количестве деревьев и глубине 36 23 f1: 0.5278276481149012 aucroc: 0.6887613725357492\n",
      "При количестве деревьев и глубине 36 24 f1: 0.5253623188405797 aucroc: 0.6869524021309305\n",
      "При количестве деревьев и глубине 37 15 f1: 0.534965034965035 aucroc: 0.6941882837502055\n",
      "При количестве деревьев и глубине 37 16 f1: 0.5618374558303887 aucroc: 0.7067824304595424\n",
      "При количестве деревьев и глубине 37 17 f1: 0.5415929203539823 aucroc: 0.696577362248499\n",
      "При количестве деревьев и глубине 37 18 f1: 0.5457746478873239 aucroc: 0.6990689265099731\n",
      "При количестве деревьев и глубине 37 19 f1: 0.54673721340388 aucroc: 0.6994102234383007\n",
      "При количестве деревьев и глубине 37 20 f1: 0.56 aucroc: 0.7072262131510505\n",
      "При количестве деревьев и глубине 37 21 f1: 0.5543859649122808 aucroc: 0.7036595152230033\n",
      "При количестве деревьев и глубине 37 22 f1: 0.5383244206773619 aucroc: 0.6944270949153525\n",
      "При количестве деревьев и глубине 37 23 f1: 0.5326278659611993 aucroc: 0.6923793133453867\n",
      "При количестве деревьев и глубине 37 24 f1: 0.5480427046263344 aucroc: 0.6993589805567103\n",
      "При количестве деревьев и глубине 38 15 f1: 0.5359019264448337 aucroc: 0.6945295806785332\n",
      "При количестве деревьев и глубине 38 16 f1: 0.5519713261648745 aucroc: 0.7007241682700209\n",
      "При количестве деревьев и глубине 38 17 f1: 0.5373665480427046 aucroc: 0.6940857979870249\n",
      "При количестве деревьев и глубине 38 18 f1: 0.5483304042179261 aucroc: 0.7004853571048739\n",
      "При количестве деревьев и глубине 38 19 f1: 0.5448028673835125 aucroc: 0.697208713223564\n",
      "При количестве деревьев и глубине 38 20 f1: 0.5614035087719299 aucroc: 0.7071749702694602\n",
      "При количестве деревьев и глубине 38 21 f1: 0.5350089766606821 aucroc: 0.6922768275822061\n",
      "При количестве деревьев и глубине 38 22 f1: 0.5379061371841155 aucroc: 0.6933007183671891\n",
      "При количестве деревьев и глубине 38 23 f1: 0.5304659498207885 aucroc: 0.69017780313065\n",
      "При количестве деревьев и глубине 38 24 f1: 0.5385996409335728 aucroc: 0.6940345551054345\n",
      "При количестве деревьев и глубине 39 15 f1: 0.534965034965035 aucroc: 0.6941882837502055\n",
      "При количестве деревьев и глубине 39 16 f1: 0.5516014234875445 aucroc: 0.7011167080799389\n"
     ]
    },
    {
     "name": "stdout",
     "output_type": "stream",
     "text": [
      "При количестве деревьев и глубине 39 17 f1: 0.5578947368421052 aucroc: 0.7054172427462317\n",
      "При количестве деревьев и глубине 39 18 f1: 0.5483304042179261 aucroc: 0.7004853571048739\n",
      "При количестве деревьев и глубине 39 19 f1: 0.5506216696269982 aucroc: 0.7007754111516112\n",
      "При количестве деревьев и глубине 39 20 f1: 0.5615251299826689 aucroc: 0.7083013468176237\n",
      "При количестве деревьев и глубине 39 21 f1: 0.5578947368421052 aucroc: 0.7054172427462317\n",
      "При количестве деревьев и глубине 39 22 f1: 0.5366726296958855 aucroc: 0.6933519612487794\n",
      "При количестве деревьев и глубине 39 23 f1: 0.5338078291814946 aucroc: 0.6923280704637964\n",
      "При количестве деревьев и глубине 39 24 f1: 0.536412078152753 aucroc: 0.6937445010586972\n",
      "F1 наилучшей модели на валидационной выборке (Auc-Roc): 0.5649913344887348 ( 0.7100590743408521 ) достигается при количестве деревьев и глубине: 35 20\n",
      "Wall time: 19.6 s\n"
     ]
    }
   ],
   "source": [
    "%%time\n",
    "best_RandomForest_est = 0\n",
    "best_RandomForest_depth = 0\n",
    "best_RandomForest_result = 0\n",
    "best_RandomForest_f1 = 0\n",
    "best_RandomForest_aucroc = 0\n",
    "best_RandomForest_model = []\n",
    "\n",
    "for est in range(30, 40, 1):\n",
    "    for depth in range(15,25,1):\n",
    "        model_RandomForest = RandomForestClassifier(random_state=432, max_depth=depth, n_estimators=est) \n",
    "        model_RandomForest.fit(features_train, target_train) \n",
    "        answers_RandomForest = model_RandomForest.predict(features_valid)\n",
    "        f1 = f1_score(target_valid, answers_RandomForest)\n",
    "        auc_roc = roc_auc_score(target_valid, answers_RandomForest)\n",
    "        result_RandomForest = accuracy_score (target_valid, answers_RandomForest)\n",
    "    #result_RandomForest = model_RandomForest.score(features_valid, target_valid) \n",
    "        print ('При количестве деревьев и глубине', est, depth, 'f1:', f1, 'aucroc:', auc_roc)\n",
    "        if f1 > best_RandomForest_f1:\n",
    "            best_RandomForest_est = est \n",
    "            best_RandomForest_depth = depth\n",
    "            best_RandomForest_result = result_RandomForest \n",
    "            best_RandomForest_f1 = f1\n",
    "            best_RandomForest_aucroc = auc_roc\n",
    "            best_RandomForest_model = model_RandomForest\n",
    "\n",
    "print(\"F1 наилучшей модели на валидационной выборке (Auc-Roc):\", best_RandomForest_f1,'(',best_RandomForest_aucroc ,') достигается при количестве деревьев и глубине:', best_RandomForest_est, best_RandomForest_depth)\n"
   ]
  },
  {
   "cell_type": "markdown",
   "metadata": {},
   "source": [
    "Стало лучше, уже f=0.565, но до успешных 0.59 все еще не добрались. Но, хотя бы наметился прорыв. И auc-roc тоже выше, чем у дерева решений."
   ]
  },
  {
   "cell_type": "markdown",
   "metadata": {},
   "source": [
    "### **Вывод**"
   ]
  },
  {
   "cell_type": "markdown",
   "metadata": {},
   "source": [
    "По итогам анализа всех имеющихся моделей, в условиях сохранения имеющегося дисбаланса 1:4 наилучшие результаты на валидной выборке показала модель случайного леса. Но модель решающего леса нельзя сбрасывать со счетов - на улучшенной выборке она доучилась и показала более достойные результаты. Логистическая регрессия не рассматривается в виду полной неприспособленности модели к исследуемым данным."
   ]
  },
  {
   "cell_type": "markdown",
   "metadata": {},
   "source": [
    "## **Борьба с дисбалансом**"
   ]
  },
  {
   "cell_type": "markdown",
   "metadata": {},
   "source": [
    "В данном разделе работы необходимо улучшить качество модели, за счет учета дисбаланса классов. Мы обучим разные модели и найдем лучшую из них."
   ]
  },
  {
   "cell_type": "markdown",
   "metadata": {},
   "source": [
    "### **Апсемплинг**"
   ]
  },
  {
   "cell_type": "markdown",
   "metadata": {},
   "source": [
    "Выборка у нас не шибко большая. Всего на всех 10000 строк, поэтому очевидно лучший результат должен дать апсемплинг. С него и начнем. \n",
    "Для начала создаем функцию апсемплинга (которая сначала разделяет выборку по целевому признаку, а потом перемножает меньшую выборку на коффициент и в конце перемешивает получившийся результат). А потом применяем ее на тренировочную выборку."
   ]
  },
  {
   "cell_type": "markdown",
   "metadata": {},
   "source": []
  },
  {
   "cell_type": "code",
   "execution_count": 21,
   "metadata": {},
   "outputs": [
    {
     "name": "stdout",
     "output_type": "stream",
     "text": [
      "Тренировочная выборка по положительному целевому признаку: 4492\n",
      "Тренировочная выборка по отрицательному целевому признаку: 4331\n"
     ]
    },
    {
     "name": "stderr",
     "output_type": "stream",
     "text": [
      "C:\\Users\\Alex\\AppData\\Local\\Temp/ipykernel_42852/3261308143.py:17: UserWarning: Boolean Series key will be reindexed to match DataFrame index.\n",
      "  print ('Тренировочная выборка по положительному целевому признаку:', features_train_upsampled[target == 1]['CreditScore'].count())\n",
      "C:\\Users\\Alex\\AppData\\Local\\Temp/ipykernel_42852/3261308143.py:18: UserWarning: Boolean Series key will be reindexed to match DataFrame index.\n",
      "  print ('Тренировочная выборка по отрицательному целевому признаку:', features_train_upsampled[target == 0]['CreditScore'].count())\n"
     ]
    }
   ],
   "source": [
    "def upsample(features, target, repeat):\n",
    "    features_zeros = features[target == 0]\n",
    "    features_ones = features[target == 1]\n",
    "    target_zeros = target[target == 0]\n",
    "    target_ones = target[target == 1]\n",
    "\n",
    "    features_upsampled = pd.concat([features_zeros] + [features_ones] * round(repeat))\n",
    "    target_upsampled = pd.concat([target_zeros] + [target_ones] * round(repeat))\n",
    "    \n",
    "    features_upsampled, target_upsampled = shuffle(features_upsampled, target_upsampled, random_state=12345)\n",
    "    \n",
    "    return features_upsampled, target_upsampled\n",
    "\n",
    "\n",
    "features_train_upsampled, target_train_upsampled = upsample(features_train, target_train, leaved_persent)\n",
    "features_valid_upsampled, target_valid_upsampled = upsample(features_valid, target_valid, leaved_persent)\n",
    "print ('Тренировочная выборка по положительному целевому признаку:', features_train_upsampled[target == 1]['CreditScore'].count())\n",
    "print ('Тренировочная выборка по отрицательному целевому признаку:', features_train_upsampled[target == 0]['CreditScore'].count())"
   ]
  },
  {
   "cell_type": "code",
   "execution_count": 22,
   "metadata": {},
   "outputs": [
    {
     "name": "stdout",
     "output_type": "stream",
     "text": [
      "<class 'pandas.core.frame.DataFrame'>\n",
      "Int64Index: 8823 entries, 349 to 392\n",
      "Data columns (total 11 columns):\n",
      " #   Column             Non-Null Count  Dtype  \n",
      "---  ------             --------------  -----  \n",
      " 0   CreditScore        8823 non-null   int64  \n",
      " 1   Age                8823 non-null   int64  \n",
      " 2   Tenure             8823 non-null   float64\n",
      " 3   Balance            8823 non-null   float64\n",
      " 4   NumOfProducts      8823 non-null   int64  \n",
      " 5   HasCrCard          8823 non-null   int64  \n",
      " 6   IsActiveMember     8823 non-null   int64  \n",
      " 7   EstimatedSalary    8823 non-null   float64\n",
      " 8   Gender_Male        8823 non-null   uint8  \n",
      " 9   Geography_Germany  8823 non-null   uint8  \n",
      " 10  Geography_Spain    8823 non-null   uint8  \n",
      "dtypes: float64(3), int64(5), uint8(3)\n",
      "memory usage: 646.2 KB\n"
     ]
    }
   ],
   "source": [
    "features_train_upsampled.info()"
   ]
  },
  {
   "cell_type": "markdown",
   "metadata": {},
   "source": [
    "Итог: тренировочная выборка в 8823 строки. Ну чтож, а теперь проверим что у нас получается на получившейся выборке"
   ]
  },
  {
   "cell_type": "markdown",
   "metadata": {},
   "source": [
    "###  **Решающее дерево.**"
   ]
  },
  {
   "cell_type": "code",
   "execution_count": 23,
   "metadata": {},
   "outputs": [
    {
     "name": "stdout",
     "output_type": "stream",
     "text": [
      "При глубине дерева 1 доля правильных ответов: 0.6683168316831684 a f1: 0.43059490084985835 с матрицей ошибок: \n",
      " [[987 478]\n",
      " [125 228]]\n",
      "При глубине дерева 2 доля правильных ответов: 0.676017601760176 a f1: 0.4541241890639482 с матрицей ошибок: \n",
      " [[984 481]\n",
      " [108 245]]\n",
      "При глубине дерева 3 доля правильных ответов: 0.676017601760176 a f1: 0.4541241890639482 с матрицей ошибок: \n",
      " [[984 481]\n",
      " [108 245]]\n",
      "При глубине дерева 4 доля правильных ответов: 0.7376237623762376 a f1: 0.5127681307456589 с матрицей ошибок: \n",
      " [[1090  375]\n",
      " [ 102  251]]\n",
      "При глубине дерева 5 доля правильных ответов: 0.7271727172717272 a f1: 0.5276190476190475 с матрицей ошибок: \n",
      " [[1045  420]\n",
      " [  76  277]]\n",
      "При глубине дерева 6 доля правильных ответов: 0.7827282728272827 a f1: 0.5596432552954292 с матрицей ошибок: \n",
      " [[1172  293]\n",
      " [ 102  251]]\n",
      "При глубине дерева 7 доля правильных ответов: 0.786028602860286 a f1: 0.5574516496018203 с матрицей ошибок: \n",
      " [[1184  281]\n",
      " [ 108  245]]\n",
      "При глубине дерева 8 доля правильных ответов: 0.7761276127612762 a f1: 0.5571273122959739 с матрицей ошибок: \n",
      " [[1155  310]\n",
      " [  97  256]]\n",
      "При глубине дерева 9 доля правильных ответов: 0.7546754675467546 a f1: 0.5214592274678111 с матрицей ошибок: \n",
      " [[1129  336]\n",
      " [ 110  243]]\n",
      "При глубине дерева 10 доля правильных ответов: 0.7585258525852585 a f1: 0.524377031419285 с матрицей ошибок: \n",
      " [[1137  328]\n",
      " [ 111  242]]\n",
      "При глубине дерева 11 доля правильных ответов: 0.7629262926292629 a f1: 0.505166475315729 с матрицей ошибок: \n",
      " [[1167  298]\n",
      " [ 133  220]]\n",
      "При глубине дерева 12 доля правильных ответов: 0.7656765676567657 a f1: 0.5069444444444444 с матрицей ошибок: \n",
      " [[1173  292]\n",
      " [ 134  219]]\n",
      "При глубине дерева 13 доля правильных ответов: 0.7722772277227723 a f1: 0.49388753056234713 с матрицей ошибок: \n",
      " [[1202  263]\n",
      " [ 151  202]]\n",
      "При глубине дерева 14 доля правильных ответов: 0.7788778877887789 a f1: 0.4846153846153846 с матрицей ошибок: \n",
      " [[1227  238]\n",
      " [ 164  189]]\n",
      "При глубине дерева 15 доля правильных ответов: 0.7788778877887789 a f1: 0.4710526315789473 с матрицей ошибок: \n",
      " [[1237  228]\n",
      " [ 174  179]]\n",
      "При глубине дерева 16 доля правильных ответов: 0.7915291529152916 a f1: 0.47434119278779474 с матрицей ошибок: \n",
      " [[1268  197]\n",
      " [ 182  171]]\n",
      "При глубине дерева 17 доля правильных ответов: 0.7876787678767877 a f1: 0.4668508287292818 с матрицей ошибок: \n",
      " [[1263  202]\n",
      " [ 184  169]]\n",
      "При глубине дерева 18 доля правильных ответов: 0.7909790979097909 a f1: 0.4736842105263158 с матрицей ошибок: \n",
      " [[1267  198]\n",
      " [ 182  171]]\n",
      "При глубине дерева 19 доля правильных ответов: 0.7909790979097909 a f1: 0.4736842105263158 с матрицей ошибок: \n",
      " [[1267  198]\n",
      " [ 182  171]]\n",
      "При глубине дерева 20 доля правильных ответов: 0.7915291529152916 a f1: 0.47434119278779474 с матрицей ошибок: \n",
      " [[1268  197]\n",
      " [ 182  171]]\n",
      "При глубине дерева 21 доля правильных ответов: 0.7898789878987899 a f1: 0.4709141274238227 с матрицей ошибок: \n",
      " [[1266  199]\n",
      " [ 183  170]]\n",
      "При глубине дерева 22 доля правильных ответов: 0.7898789878987899 a f1: 0.4709141274238227 с матрицей ошибок: \n",
      " [[1266  199]\n",
      " [ 183  170]]\n",
      "При глубине дерева 23 доля правильных ответов: 0.7898789878987899 a f1: 0.4709141274238227 с матрицей ошибок: \n",
      " [[1266  199]\n",
      " [ 183  170]]\n",
      "При глубине дерева 24 доля правильных ответов: 0.7898789878987899 a f1: 0.4709141274238227 с матрицей ошибок: \n",
      " [[1266  199]\n",
      " [ 183  170]]\n",
      "При глубине дерева 25 доля правильных ответов: 0.7898789878987899 a f1: 0.4709141274238227 с матрицей ошибок: \n",
      " [[1266  199]\n",
      " [ 183  170]]\n",
      "При глубине дерева 26 доля правильных ответов: 0.7898789878987899 a f1: 0.4709141274238227 с матрицей ошибок: \n",
      " [[1266  199]\n",
      " [ 183  170]]\n",
      "При глубине дерева 27 доля правильных ответов: 0.7898789878987899 a f1: 0.4709141274238227 с матрицей ошибок: \n",
      " [[1266  199]\n",
      " [ 183  170]]\n",
      "При глубине дерева 28 доля правильных ответов: 0.7898789878987899 a f1: 0.4709141274238227 с матрицей ошибок: \n",
      " [[1266  199]\n",
      " [ 183  170]]\n",
      "При глубине дерева 29 доля правильных ответов: 0.7898789878987899 a f1: 0.4709141274238227 с матрицей ошибок: \n",
      " [[1266  199]\n",
      " [ 183  170]]\n",
      "Accuracy лучшей модели: 0.7827282728272827 достигается при параметре max_depth, равном: 6 a f1 = : 0.5596432552954292 a auc-roc = : 0.7555240793201133\n"
     ]
    }
   ],
   "source": [
    "best_DecisionTreeUp_max_depth = 0\n",
    "best_DecisionTreeUp_result = 0\n",
    "best_DecisionTreeUp_model = 0\n",
    "best_DecisionTreeUp_f1 = 0\n",
    "best_DecisionTreeUp = []\n",
    "best_DecisionTreeUp_aucroc=0\n",
    "\n",
    "for depth in range(1, 30):\n",
    "    model_DecisionTreeUp = DecisionTreeClassifier(random_state=432, max_depth=depth)\n",
    "    model_DecisionTreeUp.fit(features_train_upsampled, target_train_upsampled)\n",
    "    answers_DecisionTreeUp = model_DecisionTreeUp.predict(features_valid)\n",
    "    result = accuracy_score (target_valid, answers_DecisionTreeUp)\n",
    "    f1 = f1_score(target_valid, answers_DecisionTreeUp)\n",
    "    auc_roc = roc_auc_score(target_valid, answers_DecisionTreeUp)\n",
    "    #result = model_DecisionTree.score (target_valid, answers_DecisionTree)\n",
    "    print ('При глубине дерева', depth, 'доля правильных ответов:', result, 'a f1:', f1,   'с матрицей ошибок:', '\\n', confusion_matrix(target_valid, answers_DecisionTreeUp))\n",
    "    if f1 > best_DecisionTreeUp_f1:\n",
    "        best_DecisionTreeUp_max_depth = depth\n",
    "        best_DecisionTreeUp_result = result\n",
    "        best_DecisionTreeUp_aucroc=auc_roc\n",
    "        best_DecisionTreeUp_f1 = f1\n",
    "        best_DecisionTreeUp = model_DecisionTreeUp\n",
    "        best_DecisionTreeUp_aucroc = auc_roc\n",
    "\n",
    "\n",
    "print(\"Accuracy лучшей модели:\", best_DecisionTreeUp_result, 'достигается при параметре max_depth, равном:', best_DecisionTreeUp_max_depth, 'a f1 = :', best_DecisionTreeUp_f1,'a auc-roc = :' , best_DecisionTreeUp_aucroc)"
   ]
  },
  {
   "cell_type": "markdown",
   "metadata": {},
   "source": [
    "Все параметры выросли (стало/было). Пока мы добились лишь f=0.559/0.508, когда нам нужно 0.59. Не плохо, но могло бы быть и лучшу. Auc-roc вырос при этом очень значительно: с 0.68 до 0.755. Модель не случайная от слова совсем. "
   ]
  },
  {
   "cell_type": "markdown",
   "metadata": {},
   "source": [
    "###  **Случайный лес:** "
   ]
  },
  {
   "cell_type": "code",
   "execution_count": 24,
   "metadata": {},
   "outputs": [
    {
     "name": "stdout",
     "output_type": "stream",
     "text": [
      "При количестве деревьев и глубине 480 20 f1: 0.5887850467289719 aucroc: 0.7335756896034961\n",
      "При количестве деревьев и глубине 480 21 f1: 0.5878693623639191 aucroc: 0.7332343926751685\n",
      "При количестве деревьев и глубине 480 22 f1: 0.5873261205564142 aucroc: 0.7336269324850864\n",
      "При количестве деревьев и глубине 480 23 f1: 0.5919003115264798 aucroc: 0.7353334171267246\n",
      "При количестве деревьев и глубине 480 24 f1: 0.5935085007727975 aucroc: 0.7371423875315433\n",
      "При количестве деревьев и глубине 490 20 f1: 0.5887850467289719 aucroc: 0.7335756896034961\n",
      "При количестве деревьев и глубине 490 21 f1: 0.5865834633385336 aucroc: 0.7321592590085952\n",
      "При количестве деревьев и глубине 490 22 f1: 0.5855161787365177 aucroc: 0.7329443386284311\n",
      "При количестве деревьев и глубине 490 23 f1: 0.5940902021772939 aucroc: 0.7367498477216257\n",
      "При количестве деревьев и глубине 490 24 f1: 0.5904173106646059 aucroc: 0.7353846600083149\n",
      "При количестве деревьев и глубине 500 20 f1: 0.5878693623639191 aucroc: 0.7332343926751685\n",
      "При количестве деревьев и глубине 500 21 f1: 0.5887850467289719 aucroc: 0.7335756896034961\n",
      "При количестве деревьев и глубине 500 22 f1: 0.5837173579109064 aucroc: 0.7322617447717759\n",
      "При количестве деревьев и глубине 500 23 f1: 0.5950155763239876 aucroc: 0.7370911446499532\n",
      "При количестве деревьев и глубине 500 24 f1: 0.5891472868217054 aucroc: 0.7343095263417416\n",
      "При количестве деревьев и глубине 510 20 f1: 0.5878693623639191 aucroc: 0.7332343926751685\n",
      "При количестве деревьев и глубине 510 21 f1: 0.5851393188854489 aucroc: 0.7322105018901855\n",
      "При количестве деревьев и глубине 510 22 f1: 0.5847589424572317 aucroc: 0.73147666515194\n",
      "При количестве деревьев и глубине 510 23 f1: 0.5950155763239876 aucroc: 0.7370911446499532\n",
      "При количестве деревьев и глубине 510 24 f1: 0.5900621118012424 aucroc: 0.7346508232700694\n",
      "При количестве деревьев и глубине 520 20 f1: 0.5856697819314642 aucroc: 0.7318179620802676\n",
      "При количестве деревьев и глубине 520 21 f1: 0.586046511627907 aucroc: 0.7325517988185131\n",
      "При количестве деревьев и глубине 520 22 f1: 0.5838509316770186 aucroc: 0.7311353682236124\n",
      "При количестве деревьев и глубине 520 23 f1: 0.5940902021772939 aucroc: 0.7367498477216257\n",
      "При количестве деревьев и глубине 520 24 f1: 0.5900621118012424 aucroc: 0.7346508232700694\n",
      "F1 наилучшей модели на валидационной выборке (Auc-Roc): 0.5950155763239876 ( 0.7370911446499532 ) достигается при количестве деревьев и глубине: 500 23\n",
      "Wall time: 1min 31s\n"
     ]
    }
   ],
   "source": [
    "%%time\n",
    "best_RandomForestUp_est = 0\n",
    "best_RandomForestUp_depth = 0\n",
    "best_RandomForestUp_result = 0\n",
    "best_RandomForestUp_f1 = 0\n",
    "best_RandomForestUp_aucroc = 0\n",
    "best_RandomForestUp_model = []\n",
    "\n",
    "for est in range(480, 530, 10):\n",
    "    for depth in range(20,25,1):\n",
    "        model_RandomForestUp = RandomForestClassifier(random_state=432, max_depth=depth, n_estimators=est) \n",
    "        model_RandomForestUp.fit(features_train_upsampled, target_train_upsampled) \n",
    "        answers_RandomForestUp = model_RandomForestUp.predict(features_valid)\n",
    "        f1 = f1_score(target_valid, answers_RandomForestUp)\n",
    "        auc_roc = roc_auc_score(target_valid, answers_RandomForestUp)\n",
    "        result_RandomForest = accuracy_score (target_valid, answers_RandomForestUp)\n",
    "    #result_RandomForest = model_RandomForest.score(features_valid, target_valid) \n",
    "        print ('При количестве деревьев и глубине', est, depth, 'f1:', f1, 'aucroc:', auc_roc)\n",
    "        if f1 > best_RandomForestUp_f1:\n",
    "            best_RandomForestUp_est = est \n",
    "            best_RandomForestUp_depth = depth\n",
    "            best_RandomForestUp_result = result_RandomForest \n",
    "            best_RandomForestUp_f1 = f1\n",
    "            best_RandomForestUp_aucroc = auc_roc\n",
    "            best_RandomForestUp_model = model_RandomForestUp\n",
    "\n",
    "print(\"F1 наилучшей модели на валидационной выборке (Auc-Roc):\", best_RandomForestUp_f1,'(',best_RandomForestUp_aucroc ,') достигается при количестве деревьев и глубине:', best_RandomForestUp_est, best_RandomForestUp_depth)\n"
   ]
  },
  {
   "cell_type": "markdown",
   "metadata": {},
   "source": [
    "Ну чтож... Очень долго ковыряясь в параметрах, мы получили нужные нам 0.59 уже на тестовой выборке. Auc-roc также подтянулся с 0.71 до 0.737.  Ждем не дождемся валидационной проверки дабы узнать не переучилась ли модель на такой глубине. Но, в любом случае, победитель на данном этапе работы именно она. "
   ]
  },
  {
   "cell_type": "markdown",
   "metadata": {},
   "source": [
    "### **Даунсемплинг**"
   ]
  },
  {
   "cell_type": "markdown",
   "metadata": {},
   "source": [
    "Для начала создаем функцию даунсемплинга (которая сначала разделяет выборку по целевому признаку, а потом убирает из большей выборки часть \"лишних\" значений чтобы уровнять объем данных по каждому варианту целевого признака и в конце перемешивает получившийся результат). А потом применяем ее на тренировочную выборку."
   ]
  },
  {
   "cell_type": "code",
   "execution_count": 25,
   "metadata": {},
   "outputs": [],
   "source": [
    "def downsample(features, target, fraction):\n",
    "    features_zeros = features[target == 0]\n",
    "    features_ones = features[target == 1]\n",
    "    target_zeros = target[target == 0]\n",
    "    target_ones = target[target == 1]\n",
    "    features_downsampled = pd.concat(\n",
    "        [features_zeros.sample(frac=fraction, random_state=12345)] + [features_ones])\n",
    "    target_downsampled = pd.concat(\n",
    "        [target_zeros.sample(frac=fraction, random_state=12345)] + [target_ones])\n",
    "    features_downsampled, target_downsampled = shuffle(features_downsampled, target_downsampled, random_state=12345)\n",
    "    \n",
    "    return features_downsampled, target_downsampled\n"
   ]
  },
  {
   "cell_type": "code",
   "execution_count": 26,
   "metadata": {},
   "outputs": [
    {
     "name": "stdout",
     "output_type": "stream",
     "text": [
      "Тренировочная выборка по положительному целевому признаку: 1123\n",
      "Тренировочная выборка по отрицательному целевому признаку: 1110\n"
     ]
    },
    {
     "name": "stderr",
     "output_type": "stream",
     "text": [
      "C:\\Users\\Alex\\AppData\\Local\\Temp/ipykernel_42852/2851131819.py:3: UserWarning: Boolean Series key will be reindexed to match DataFrame index.\n",
      "  print ('Тренировочная выборка по положительному целевому признаку:', features_train_downsampled[target == 1]['CreditScore'].count())\n",
      "C:\\Users\\Alex\\AppData\\Local\\Temp/ipykernel_42852/2851131819.py:4: UserWarning: Boolean Series key will be reindexed to match DataFrame index.\n",
      "  print ('Тренировочная выборка по отрицательному целевому признаку:', features_train_downsampled[target == 0]['CreditScore'].count())\n"
     ]
    }
   ],
   "source": [
    "features_train_downsampled, target_train_downsampled = downsample(features_train, target_train, (1/leaved_persent))\n",
    "features_valid_downsampled, target_valid_downsampled = downsample(features_valid, target_valid, (1/leaved_persent))\n",
    "print ('Тренировочная выборка по положительному целевому признаку:', features_train_downsampled[target == 1]['CreditScore'].count())\n",
    "print ('Тренировочная выборка по отрицательному целевому признаку:', features_train_downsampled[target == 0]['CreditScore'].count())"
   ]
  },
  {
   "cell_type": "code",
   "execution_count": 27,
   "metadata": {},
   "outputs": [
    {
     "name": "stdout",
     "output_type": "stream",
     "text": [
      "<class 'pandas.core.frame.DataFrame'>\n",
      "Int64Index: 2233 entries, 2134 to 9483\n",
      "Data columns (total 11 columns):\n",
      " #   Column             Non-Null Count  Dtype  \n",
      "---  ------             --------------  -----  \n",
      " 0   CreditScore        2233 non-null   int64  \n",
      " 1   Age                2233 non-null   int64  \n",
      " 2   Tenure             2233 non-null   float64\n",
      " 3   Balance            2233 non-null   float64\n",
      " 4   NumOfProducts      2233 non-null   int64  \n",
      " 5   HasCrCard          2233 non-null   int64  \n",
      " 6   IsActiveMember     2233 non-null   int64  \n",
      " 7   EstimatedSalary    2233 non-null   float64\n",
      " 8   Gender_Male        2233 non-null   uint8  \n",
      " 9   Geography_Germany  2233 non-null   uint8  \n",
      " 10  Geography_Spain    2233 non-null   uint8  \n",
      "dtypes: float64(3), int64(5), uint8(3)\n",
      "memory usage: 163.5 KB\n"
     ]
    }
   ],
   "source": [
    "features_train_downsampled.info()"
   ]
  },
  {
   "cell_type": "markdown",
   "metadata": {},
   "source": [
    "Итог: тренировочная выборка в 2233 строки. В 4 раза меньше чем при апсемпле. Посмотрим чеме научится на такой выборке наша модель. "
   ]
  },
  {
   "cell_type": "markdown",
   "metadata": {},
   "source": [
    "### **Решающее дерево.**"
   ]
  },
  {
   "cell_type": "code",
   "execution_count": 28,
   "metadata": {},
   "outputs": [
    {
     "name": "stdout",
     "output_type": "stream",
     "text": [
      "При глубине дерева 1 доля правильных ответов: 0.6996699669966997 a f1: 0.44057377049180324 с матрицей ошибок: \n",
      " [[1057  408]\n",
      " [ 138  215]]\n",
      "При глубине дерева 2 доля правильных ответов: 0.7073707370737073 a f1: 0.4658634538152611 с матрицей ошибок: \n",
      " [[1054  411]\n",
      " [ 121  232]]\n",
      "При глубине дерева 3 доля правильных ответов: 0.8047304730473047 a f1: 0.5170068027210885 с матрицей ошибок: \n",
      " [[1273  192]\n",
      " [ 163  190]]\n",
      "При глубине дерева 4 доля правильных ответов: 0.7667766776677668 a f1: 0.5137614678899082 с матрицей ошибок: \n",
      " [[1170  295]\n",
      " [ 129  224]]\n",
      "При глубине дерева 5 доля правильных ответов: 0.7117711771177118 a f1: 0.5102803738317757 с матрицей ошибок: \n",
      " [[1021  444]\n",
      " [  80  273]]\n",
      "При глубине дерева 6 доля правильных ответов: 0.775027502750275 a f1: 0.5510428100987925 с матрицей ошибок: \n",
      " [[1158  307]\n",
      " [ 102  251]]\n",
      "При глубине дерева 7 доля правильных ответов: 0.7585258525852585 a f1: 0.5393494228751312 с матрицей ошибок: \n",
      " [[1122  343]\n",
      " [  96  257]]\n",
      "При глубине дерева 8 доля правильных ответов: 0.7524752475247525 a f1: 0.53125 с матрицей ошибок: \n",
      " [[1113  352]\n",
      " [  98  255]]\n",
      "При глубине дерева 9 доля правильных ответов: 0.7508250825082509 a f1: 0.5353846153846155 с матрицей ошибок: \n",
      " [[1104  361]\n",
      " [  92  261]]\n",
      "При глубине дерева 10 доля правильных ответов: 0.7370737073707371 a f1: 0.5112474437627812 с матрицей ошибок: \n",
      " [[1090  375]\n",
      " [ 103  250]]\n",
      "При глубине дерева 11 доля правильных ответов: 0.7447744774477447 a f1: 0.5156576200417538 с матрицей ошибок: \n",
      " [[1107  358]\n",
      " [ 106  247]]\n",
      "При глубине дерева 12 доля правильных ответов: 0.7255225522552256 a f1: 0.5044687189672293 с матрицей ошибок: \n",
      " [[1065  400]\n",
      " [  99  254]]\n",
      "При глубине дерева 13 доля правильных ответов: 0.713971397139714 a f1: 0.4799999999999999 с матрицей ошибок: \n",
      " [[1058  407]\n",
      " [ 113  240]]\n",
      "При глубине дерева 14 доля правильных ответов: 0.7079207920792079 a f1: 0.48296007789678674 с матрицей ошибок: \n",
      " [[1039  426]\n",
      " [ 105  248]]\n",
      "При глубине дерева 15 доля правильных ответов: 0.6936193619361937 a f1: 0.47502356267672 с матрицей ошибок: \n",
      " [[1009  456]\n",
      " [ 101  252]]\n",
      "При глубине дерева 16 доля правильных ответов: 0.6963696369636964 a f1: 0.47924528301886793 с матрицей ошибок: \n",
      " [[1012  453]\n",
      " [  99  254]]\n",
      "При глубине дерева 17 доля правильных ответов: 0.6864686468646864 a f1: 0.46529080675422135 с матрицей ошибок: \n",
      " [[1000  465]\n",
      " [ 105  248]]\n",
      "При глубине дерева 18 доля правильных ответов: 0.7007700770077008 a f1: 0.4858223062381853 с матрицей ошибок: \n",
      " [[1017  448]\n",
      " [  96  257]]\n",
      "При глубине дерева 19 доля правильных ответов: 0.6963696369636964 a f1: 0.4772727272727273 с матрицей ошибок: \n",
      " [[1014  451]\n",
      " [ 101  252]]\n",
      "При глубине дерева 20 доля правильных ответов: 0.6963696369636964 a f1: 0.4772727272727273 с матрицей ошибок: \n",
      " [[1014  451]\n",
      " [ 101  252]]\n",
      "При глубине дерева 21 доля правильных ответов: 0.6963696369636964 a f1: 0.4772727272727273 с матрицей ошибок: \n",
      " [[1014  451]\n",
      " [ 101  252]]\n",
      "При глубине дерева 22 доля правильных ответов: 0.6963696369636964 a f1: 0.4772727272727273 с матрицей ошибок: \n",
      " [[1014  451]\n",
      " [ 101  252]]\n",
      "При глубине дерева 23 доля правильных ответов: 0.6963696369636964 a f1: 0.4772727272727273 с матрицей ошибок: \n",
      " [[1014  451]\n",
      " [ 101  252]]\n",
      "При глубине дерева 24 доля правильных ответов: 0.6963696369636964 a f1: 0.4772727272727273 с матрицей ошибок: \n",
      " [[1014  451]\n",
      " [ 101  252]]\n",
      "При глубине дерева 25 доля правильных ответов: 0.6963696369636964 a f1: 0.4772727272727273 с матрицей ошибок: \n",
      " [[1014  451]\n",
      " [ 101  252]]\n",
      "При глубине дерева 26 доля правильных ответов: 0.6963696369636964 a f1: 0.4772727272727273 с матрицей ошибок: \n",
      " [[1014  451]\n",
      " [ 101  252]]\n",
      "При глубине дерева 27 доля правильных ответов: 0.6963696369636964 a f1: 0.4772727272727273 с матрицей ошибок: \n",
      " [[1014  451]\n",
      " [ 101  252]]\n",
      "При глубине дерева 28 доля правильных ответов: 0.6963696369636964 a f1: 0.4772727272727273 с матрицей ошибок: \n",
      " [[1014  451]\n",
      " [ 101  252]]\n",
      "При глубине дерева 29 доля правильных ответов: 0.6963696369636964 a f1: 0.4772727272727273 с матрицей ошибок: \n",
      " [[1014  451]\n",
      " [ 101  252]]\n",
      "Accuracy лучшей модели: 0.775027502750275 достигается при параметре max_depth, равном: 6 a f1 = : 0.5510428100987925 a auc-roc = : 0.7507459223235263\n"
     ]
    }
   ],
   "source": [
    "best_DecisionTreeDown_max_depth = 0\n",
    "best_DecisionTreeDown_result = 0\n",
    "best_DecisionTreeDown_model = 0\n",
    "best_DecisionTreeDown_f1 = 0\n",
    "best_DecisionTreeDown = []\n",
    "best_DecisionTreeDown_aucroc=0\n",
    "\n",
    "for depth in range(1, 30):\n",
    "    model_DecisionTreeDown = DecisionTreeClassifier(random_state=432, max_depth=depth)\n",
    "    model_DecisionTreeDown.fit(features_train_downsampled, target_train_downsampled)\n",
    "    answers_DecisionTreeDown = model_DecisionTreeDown.predict(features_valid)\n",
    "    result = accuracy_score (target_valid, answers_DecisionTreeDown)\n",
    "    f1 = f1_score(target_valid, answers_DecisionTreeDown)\n",
    "    auc_roc = roc_auc_score(target_valid, answers_DecisionTreeDown)\n",
    "    print ('При глубине дерева', depth, 'доля правильных ответов:', result, 'a f1:', f1,   'с матрицей ошибок:', '\\n', confusion_matrix(target_valid, answers_DecisionTreeDown))\n",
    "    if f1 > best_DecisionTreeDown_f1:\n",
    "        best_DecisionTreeDown_max_depth = depth\n",
    "        best_DecisionTreeDown_result = result\n",
    "        best_DecisionTreeDown_aucroc=auc_roc\n",
    "        best_DecisionTreeDown_f1 = f1\n",
    "        best_DecisionTreeDown = model_DecisionTreeDown\n",
    "        best_DecisionTreeDown_aucroc = auc_roc\n",
    "\n",
    "\n",
    "print(\"Accuracy лучшей модели:\", best_DecisionTreeDown_result, 'достигается при параметре max_depth, равном:', best_DecisionTreeDown_max_depth, 'a f1 = :', best_DecisionTreeDown_f1,'a auc-roc = :' , best_DecisionTreeDown_aucroc)"
   ]
  },
  {
   "cell_type": "markdown",
   "metadata": {},
   "source": [
    "Ну, кстати, не так уж и плохо! Да, на меньшей выборке модель показала результаты хуже, но на весьма незначительном уровне (даунсемплинг/апсемплинг): F1:  0.55104/ 0.55964   Auc-roc: 0.7507/ 0.7555"
   ]
  },
  {
   "cell_type": "markdown",
   "metadata": {},
   "source": [
    "###  **Случайный лес**"
   ]
  },
  {
   "cell_type": "code",
   "execution_count": 29,
   "metadata": {},
   "outputs": [
    {
     "name": "stdout",
     "output_type": "stream",
     "text": [
      "При количестве деревьев и глубине 480 20 f1: 0.5643776824034334 aucroc: 0.7646714171073877\n",
      "При количестве деревьев и глубине 480 21 f1: 0.5668449197860963 aucroc: 0.7671629813688616\n",
      "При количестве деревьев и глубине 480 22 f1: 0.5665236051502146 aucroc: 0.7664291446306162\n",
      "При количестве деревьев и глубине 480 23 f1: 0.5683760683760684 aucroc: 0.7685794119637626\n",
      "При количестве деревьев и глубине 480 24 f1: 0.5680851063829788 aucroc: 0.7689719517736804\n",
      "При количестве деревьев и глубине 490 20 f1: 0.5643776824034334 aucroc: 0.7646714171073877\n",
      "При количестве деревьев и глубине 490 21 f1: 0.560427807486631 aucroc: 0.7618897987991762\n",
      "При количестве деревьев и глубине 490 22 f1: 0.5653104925053533 aucroc: 0.7657465507739608\n",
      "При количестве деревьев и глубине 490 23 f1: 0.5659163987138264 aucroc: 0.7660878477022884\n",
      "При количестве деревьев и глубине 490 24 f1: 0.5656350053361793 aucroc: 0.7664803875122065\n",
      "При количестве деревьев и глубине 500 20 f1: 0.5640473627556513 aucroc: 0.763937580369142\n",
      "При количестве деревьев и глубине 500 21 f1: 0.5616291532690246 aucroc: 0.7625723926558315\n",
      "При количестве деревьев и глубине 500 22 f1: 0.5668449197860963 aucroc: 0.7671629813688616\n",
      "При количестве деревьев и глубине 500 23 f1: 0.5665236051502146 aucroc: 0.7664291446306162\n",
      "При количестве деревьев и глубине 500 24 f1: 0.5662393162393162 aucroc: 0.7668216844405341\n",
      "При количестве деревьев и глубине 510 20 f1: 0.5631067961165048 aucroc: 0.7628624467025689\n",
      "При количестве деревьев и глубине 510 21 f1: 0.5619658119658121 aucroc: 0.7633062293940772\n",
      "При количестве деревьев и глубине 510 22 f1: 0.5653104925053533 aucroc: 0.7657465507739608\n",
      "При количестве деревьев и глубине 510 23 f1: 0.5692803437164339 aucroc: 0.7685281690821724\n",
      "При количестве деревьев и глубине 510 24 f1: 0.5662393162393162 aucroc: 0.7668216844405341\n",
      "При количестве деревьев и глубине 520 20 f1: 0.566200215285253 aucroc: 0.7656953078923707\n",
      "При количестве деревьев и глубине 520 21 f1: 0.5594855305466238 aucroc: 0.7608146651326031\n",
      "При количестве деревьев и глубине 520 22 f1: 0.5683760683760684 aucroc: 0.7685794119637626\n",
      "При количестве деревьев и глубине 520 23 f1: 0.5668449197860963 aucroc: 0.7671629813688616\n",
      "При количестве деревьев и глубине 520 24 f1: 0.5662393162393162 aucroc: 0.7668216844405341\n",
      "F1 наилучшей модели на валидационной выборке (Auc-Roc): 0.5692803437164339 ( 0.7685281690821724 ) достигается при количестве деревьев и глубине: 510 23\n",
      "Wall time: 35 s\n"
     ]
    }
   ],
   "source": [
    "%%time\n",
    "best_RandomForestDown_est = 0\n",
    "best_RandomForestDown_depth = 0\n",
    "best_RandomForestDown_result = 0\n",
    "best_RandomForestDown_f1 = 0\n",
    "best_RandomForestDown_aucroc = 0\n",
    "best_RandomForestDown_model = []\n",
    "\n",
    "for est in range(480, 530, 10):\n",
    "    for depth in range(20,25,1):\n",
    "        model_RandomForestDown = RandomForestClassifier(random_state=432, max_depth=depth, n_estimators=est) \n",
    "        model_RandomForestDown.fit(features_train_downsampled, target_train_downsampled) \n",
    "        answers_RandomForestDown = model_RandomForestDown.predict(features_valid)\n",
    "        f1 = f1_score(target_valid, answers_RandomForestDown)\n",
    "        auc_roc = roc_auc_score(target_valid, answers_RandomForestDown)\n",
    "        result_RandomForestDown = accuracy_score (target_valid, answers_RandomForestDown)\n",
    "    #result_RandomForest = model_RandomForest.score(features_valid, target_valid) \n",
    "        print ('При количестве деревьев и глубине', est, depth, 'f1:', f1, 'aucroc:', auc_roc)\n",
    "        if f1 > best_RandomForestDown_f1:\n",
    "            best_RandomForestDown_est = est \n",
    "            best_RandomForestDown_depth = depth\n",
    "            best_RandomForestDown_result = result_RandomForestDown \n",
    "            best_RandomForestDown_f1 = f1\n",
    "            best_RandomForestDown_aucroc = auc_roc\n",
    "            best_RandomForestDown_model = model_RandomForestDown\n",
    "\n",
    "print(\"F1 наилучшей модели на валидационной выборке (Auc-Roc):\", best_RandomForestDown_f1,'(',best_RandomForestDown_aucroc ,') достигается при количестве деревьев и глубине:', best_RandomForestDown_est, best_RandomForestDown_depth)\n"
   ]
  },
  {
   "cell_type": "markdown",
   "metadata": {},
   "source": [
    "А здесь результаты хуже. Да, снова лучше решающего дерева, но отставание от обучения на расширенной выборке становятся критичными (даунсемплинг/апсемплинг): F1:  0.5692/ 0.59501. Хотя и имеет место падение auc_roc, приоритет у нас все же именно за F1.  Auc-roc: 0.7685/ 0.737"
   ]
  },
  {
   "cell_type": "markdown",
   "metadata": {},
   "source": [
    "### **Вывод:**"
   ]
  },
  {
   "cell_type": "markdown",
   "metadata": {},
   "source": [
    "На данном этапе работы, мы избавились от дисбаланса по целевому признаку используя апсемплинг и увеличив в 4 раза количество данных клиентами, покинувшими компанию. Данное решение серьезно увеличило F1 лучшей модели (случайный лес) - с 0.565 до 0.595.\n",
    "Также был расмотрен вариант исключения дисбаланса даунсемплингом, но метод показал результаты хуже."
   ]
  },
  {
   "cell_type": "markdown",
   "metadata": {},
   "source": [
    "## **Тестирование модели**"
   ]
  },
  {
   "cell_type": "markdown",
   "metadata": {},
   "source": [
    "Мы проанализировали все варианты моделей, подобрали оптимальные значения гиперпараметров - лучший результат показал случайный лес. Мы улучшили качество модели, избавившись от дисбаланса - и снова случайный лес показал лучшие результаты. Посмотрим какой итоговый результат покажет эта модель.\n"
   ]
  },
  {
   "cell_type": "markdown",
   "metadata": {},
   "source": [
    "Но прежде, перед получением окончательного результата, доучив нашу модель на имеющихся данных. Соединим тренировочные и валидные базы (с исправленным дисбалансом) в единую базу, перемешаем данные и на этой, максимально возможной выборке, еще раз обучим модель."
   ]
  },
  {
   "cell_type": "code",
   "execution_count": 30,
   "metadata": {},
   "outputs": [],
   "source": [
    "features_tv=pd.concat([features_train_upsampled, features_valid_upsampled])\n",
    "target_tv=pd.concat([target_train_upsampled, target_valid_upsampled])\n",
    "features_tv, target_tv = shuffle(features_tv, target_tv, random_state=12345)"
   ]
  },
  {
   "cell_type": "code",
   "execution_count": 31,
   "metadata": {},
   "outputs": [
    {
     "name": "stdout",
     "output_type": "stream",
     "text": [
      "Для лучшей модели решающего дерева качество: 0.845519516217702 , а f1: 0.5945165945165946 и auc-roc 0.7346658148184866\n"
     ]
    }
   ],
   "source": [
    "best_RandomForestUp_model.fit(features_tv, target_tv)\n",
    "answers_RandomForest = best_RandomForestUp_model.predict(features_test)\n",
    "result = best_RandomForestUp_model.score(features_test, target_test)\n",
    "f1 = f1_score(target_test, answers_RandomForest)\n",
    "auc_roc = roc_auc_score(target_test, answers_RandomForest)\n",
    "print ('Для лучшей модели решающего дерева качество:', result, ', а f1:', f1, 'и auc-roc', auc_roc)"
   ]
  },
  {
   "cell_type": "markdown",
   "metadata": {},
   "source": [
    "Все замечательно! Модель не переучилась, справилась с поставленной задачей и показала по сути такие же высокие значения F1 и auc-roc, как и на валидной выборке. Получившийся результат auc-roc достаточно сильно превосходящий значение для случайной модели."
   ]
  },
  {
   "cell_type": "markdown",
   "metadata": {},
   "source": [
    "### **Вывод:**"
   ]
  },
  {
   "cell_type": "markdown",
   "metadata": {},
   "source": [
    "Тестирование подтвердило высокий результат для модели случайного леса, обученной после исправления дисбаланса. Итоговый результат на тестовой выборке F1=0.5945, что превышает заявленную минимальную планку."
   ]
  },
  {
   "cell_type": "markdown",
   "metadata": {},
   "source": [
    "## **Чек-лист готовности проекта**"
   ]
  },
  {
   "cell_type": "markdown",
   "metadata": {},
   "source": [
    "Поставьте 'x' в выполненных пунктах. Далее нажмите Shift+Enter."
   ]
  },
  {
   "cell_type": "markdown",
   "metadata": {},
   "source": [
    "- [x]  Jupyter Notebook открыт\n",
    "- [x]  Весь код выполняется без ошибок\n",
    "- [x]  Ячейки с кодом расположены в порядке исполнения\n",
    "- [x]  Выполнен шаг 1: данные подготовлены\n",
    "- [x]  Выполнен шаг 2: задача исследована\n",
    "    - [x]  Исследован баланс классов\n",
    "    - [x]  Изучены модели без учёта дисбаланса\n",
    "    - [x]  Написаны выводы по результатам исследования\n",
    "- [x]  Выполнен шаг 3: учтён дисбаланс\n",
    "    - [x]  Применено несколько способов борьбы с дисбалансом\n",
    "    - [x]  Написаны выводы по результатам исследования\n",
    "- [x]  Выполнен шаг 4: проведено тестирование\n",
    "- [x]  Удалось достичь *F1*-меры не менее 0.59\n",
    "- [x]  Исследована метрика *AUC-ROC*"
   ]
  },
  {
   "cell_type": "markdown",
   "metadata": {},
   "source": [
    "## **Общий вывод:**"
   ]
  },
  {
   "cell_type": "markdown",
   "metadata": {},
   "source": [
    "В процессе выполнения данной проектной работы:\n",
    "\n",
    "- был открыт и изучен исследуемый датасет на предмет неверных типов данных, отсутствующих данных, логических ошибок в данных;\n",
    "\n",
    "- строки с отсутствующими важными данными (с информацией сколько лет человек является клиентом банка) были удалены;\n",
    "\n",
    "- перед обучением моделей, были исключены ненужные для модели данные, а категориальные признаки заменены численными по принципу OHE;\n",
    "\n",
    "- анализ баланса классов показал дисбаланс между положительным/отрицательным целевым признаком в 3.9 раза;\n",
    "\n",
    "- обучение моделей без учета дисбаланса и поиск наилучших комбинаций параментров. В итоге лучшая модель из тройки Решающее дерево/Случайный лес/Логистическая регрессия - Случайный лес. Но целевое значение F1 на данной выборке достигнуто не было. Auc-roc модели высоки;\n",
    "\n",
    "- проблема дисбаланса данных решалась методами даунсемплинга и апсемплинга. Более высокие результаты модели показывали при апсемплинге в выборке, а победительницей снова стала модель случайного леса, на этот раз превысившая целевое значение F1;\n",
    "\n",
    "- тестирование лучшей модели подтвердило ее дееспособность - результаты F1 и Auc-roc незначительно изменились относительно результатов на валидационной выборке и также превысили целевое значение в 0.59 для F1."
   ]
  }
 ],
 "metadata": {
  "ExecuteTimeLog": [
   {
    "duration": 5,
    "start_time": "2022-10-01T23:29:50.659Z"
   },
   {
    "duration": 3,
    "start_time": "2022-10-01T23:30:34.590Z"
   },
   {
    "duration": 406,
    "start_time": "2022-10-01T23:31:47.765Z"
   },
   {
    "duration": 85,
    "start_time": "2022-10-01T23:32:15.294Z"
   },
   {
    "duration": 35,
    "start_time": "2022-10-01T23:34:21.043Z"
   },
   {
    "duration": 23,
    "start_time": "2022-10-01T23:35:20.221Z"
   },
   {
    "duration": 1023,
    "start_time": "2022-10-01T23:37:40.835Z"
   },
   {
    "duration": 6,
    "start_time": "2022-10-01T23:37:55.060Z"
   },
   {
    "duration": 13,
    "start_time": "2022-10-01T23:42:11.593Z"
   },
   {
    "duration": 13,
    "start_time": "2022-10-01T23:42:29.065Z"
   },
   {
    "duration": 6,
    "start_time": "2022-10-01T23:44:01.218Z"
   },
   {
    "duration": 46,
    "start_time": "2022-10-02T21:28:29.073Z"
   },
   {
    "duration": 400,
    "start_time": "2022-10-02T21:28:37.433Z"
   },
   {
    "duration": 82,
    "start_time": "2022-10-02T21:28:37.835Z"
   },
   {
    "duration": 27,
    "start_time": "2022-10-02T21:28:37.918Z"
   },
   {
    "duration": 7,
    "start_time": "2022-10-02T21:28:37.947Z"
   },
   {
    "duration": 17,
    "start_time": "2022-10-02T21:28:37.955Z"
   },
   {
    "duration": 5,
    "start_time": "2022-10-02T21:28:37.973Z"
   },
   {
    "duration": 6,
    "start_time": "2022-10-02T21:29:02.050Z"
   },
   {
    "duration": 5,
    "start_time": "2022-10-02T21:29:16.065Z"
   },
   {
    "duration": 514,
    "start_time": "2022-10-02T21:43:37.142Z"
   },
   {
    "duration": 183,
    "start_time": "2022-10-02T21:44:10.466Z"
   },
   {
    "duration": 2574,
    "start_time": "2022-10-02T21:44:17.338Z"
   },
   {
    "duration": 144,
    "start_time": "2022-10-02T21:44:33.346Z"
   },
   {
    "duration": 175,
    "start_time": "2022-10-02T21:44:42.762Z"
   },
   {
    "duration": 12,
    "start_time": "2022-10-02T21:58:05.733Z"
   },
   {
    "duration": 8,
    "start_time": "2022-10-02T22:00:31.337Z"
   },
   {
    "duration": 67,
    "start_time": "2022-10-02T22:13:12.708Z"
   },
   {
    "duration": 1348,
    "start_time": "2022-10-02T22:13:33.801Z"
   },
   {
    "duration": 40,
    "start_time": "2022-10-02T22:13:35.151Z"
   },
   {
    "duration": 29,
    "start_time": "2022-10-02T22:13:35.193Z"
   },
   {
    "duration": 7,
    "start_time": "2022-10-02T22:13:35.224Z"
   },
   {
    "duration": 36,
    "start_time": "2022-10-02T22:13:35.232Z"
   },
   {
    "duration": 14,
    "start_time": "2022-10-02T22:13:35.269Z"
   },
   {
    "duration": 435,
    "start_time": "2022-10-02T22:13:35.285Z"
   },
   {
    "duration": 7,
    "start_time": "2022-10-02T22:13:35.721Z"
   },
   {
    "duration": 18,
    "start_time": "2022-10-02T22:13:35.743Z"
   },
   {
    "duration": 24,
    "start_time": "2022-10-02T22:13:35.763Z"
   },
   {
    "duration": 7,
    "start_time": "2022-10-02T22:16:20.210Z"
   },
   {
    "duration": 7,
    "start_time": "2022-10-02T22:21:36.746Z"
   },
   {
    "duration": 109,
    "start_time": "2022-10-02T22:27:01.366Z"
   },
   {
    "duration": 12,
    "start_time": "2022-10-02T22:49:23.588Z"
   },
   {
    "duration": 6,
    "start_time": "2022-10-02T22:51:21.563Z"
   },
   {
    "duration": 2431,
    "start_time": "2022-10-02T22:51:48.548Z"
   },
   {
    "duration": 41,
    "start_time": "2022-10-02T22:51:50.981Z"
   },
   {
    "duration": 30,
    "start_time": "2022-10-02T22:51:51.024Z"
   },
   {
    "duration": 7,
    "start_time": "2022-10-02T22:51:51.056Z"
   },
   {
    "duration": 11,
    "start_time": "2022-10-02T22:51:51.064Z"
   },
   {
    "duration": 4,
    "start_time": "2022-10-02T22:51:51.076Z"
   },
   {
    "duration": 401,
    "start_time": "2022-10-02T22:51:51.082Z"
   },
   {
    "duration": 6,
    "start_time": "2022-10-02T22:51:51.485Z"
   },
   {
    "duration": 10,
    "start_time": "2022-10-02T22:51:51.493Z"
   },
   {
    "duration": 114,
    "start_time": "2022-10-02T22:51:51.505Z"
   },
   {
    "duration": 0,
    "start_time": "2022-10-02T22:51:51.621Z"
   },
   {
    "duration": 4,
    "start_time": "2022-10-02T22:52:33.492Z"
   },
   {
    "duration": 4,
    "start_time": "2022-10-02T22:52:52.058Z"
   },
   {
    "duration": 5,
    "start_time": "2022-10-02T22:53:14.851Z"
   },
   {
    "duration": 28,
    "start_time": "2022-10-02T22:53:40.066Z"
   },
   {
    "duration": 50,
    "start_time": "2022-10-03T21:07:56.311Z"
   },
   {
    "duration": 1219,
    "start_time": "2022-10-03T21:08:04.654Z"
   },
   {
    "duration": 165,
    "start_time": "2022-10-03T21:08:05.875Z"
   },
   {
    "duration": 32,
    "start_time": "2022-10-03T21:08:06.042Z"
   },
   {
    "duration": 9,
    "start_time": "2022-10-03T21:08:06.076Z"
   },
   {
    "duration": 20,
    "start_time": "2022-10-03T21:08:06.087Z"
   },
   {
    "duration": 7,
    "start_time": "2022-10-03T21:08:06.108Z"
   },
   {
    "duration": 668,
    "start_time": "2022-10-03T21:08:06.116Z"
   },
   {
    "duration": 8,
    "start_time": "2022-10-03T21:08:06.789Z"
   },
   {
    "duration": 19,
    "start_time": "2022-10-03T21:08:06.799Z"
   },
   {
    "duration": 11,
    "start_time": "2022-10-03T21:08:06.819Z"
   },
   {
    "duration": 4,
    "start_time": "2022-10-03T21:08:06.832Z"
   },
   {
    "duration": 175,
    "start_time": "2022-10-03T21:08:06.837Z"
   },
   {
    "duration": 11,
    "start_time": "2022-10-03T21:08:25.946Z"
   },
   {
    "duration": 5,
    "start_time": "2022-10-03T21:08:33.857Z"
   },
   {
    "duration": 13,
    "start_time": "2022-10-03T21:08:45.586Z"
   },
   {
    "duration": 11,
    "start_time": "2022-10-03T21:11:02.442Z"
   },
   {
    "duration": 7,
    "start_time": "2022-10-03T21:11:05.474Z"
   },
   {
    "duration": 6,
    "start_time": "2022-10-03T21:11:12.817Z"
   },
   {
    "duration": 7,
    "start_time": "2022-10-03T21:11:35.761Z"
   },
   {
    "duration": 8,
    "start_time": "2022-10-03T21:11:53.402Z"
   },
   {
    "duration": 16,
    "start_time": "2022-10-03T21:20:02.302Z"
   },
   {
    "duration": 16,
    "start_time": "2022-10-03T21:20:38.958Z"
   },
   {
    "duration": 20,
    "start_time": "2022-10-03T21:20:43.686Z"
   },
   {
    "duration": 23,
    "start_time": "2022-10-03T21:21:08.765Z"
   },
   {
    "duration": 12,
    "start_time": "2022-10-03T21:44:11.515Z"
   },
   {
    "duration": 7,
    "start_time": "2022-10-03T21:44:49.803Z"
   },
   {
    "duration": 1337,
    "start_time": "2022-10-03T21:45:06.273Z"
   },
   {
    "duration": 1151,
    "start_time": "2022-10-03T21:45:27.908Z"
   },
   {
    "duration": 7,
    "start_time": "2022-10-03T21:45:44.666Z"
   },
   {
    "duration": 1176,
    "start_time": "2022-10-03T21:47:02.300Z"
   },
   {
    "duration": 45,
    "start_time": "2022-10-03T21:47:03.478Z"
   },
   {
    "duration": 33,
    "start_time": "2022-10-03T21:47:03.525Z"
   },
   {
    "duration": 9,
    "start_time": "2022-10-03T21:47:03.560Z"
   },
   {
    "duration": 22,
    "start_time": "2022-10-03T21:47:03.572Z"
   },
   {
    "duration": 11,
    "start_time": "2022-10-03T21:47:03.598Z"
   },
   {
    "duration": 552,
    "start_time": "2022-10-03T21:47:03.612Z"
   },
   {
    "duration": 8,
    "start_time": "2022-10-03T21:47:04.166Z"
   },
   {
    "duration": 29,
    "start_time": "2022-10-03T21:47:04.176Z"
   },
   {
    "duration": 32,
    "start_time": "2022-10-03T21:47:04.208Z"
   },
   {
    "duration": 1295,
    "start_time": "2022-10-03T21:47:04.242Z"
   },
   {
    "duration": 0,
    "start_time": "2022-10-03T21:47:05.539Z"
   },
   {
    "duration": 0,
    "start_time": "2022-10-03T21:47:05.540Z"
   },
   {
    "duration": 0,
    "start_time": "2022-10-03T21:47:05.542Z"
   },
   {
    "duration": 0,
    "start_time": "2022-10-03T21:47:05.543Z"
   },
   {
    "duration": 0,
    "start_time": "2022-10-03T21:47:05.544Z"
   },
   {
    "duration": 9,
    "start_time": "2022-10-03T21:47:24.966Z"
   },
   {
    "duration": 1195,
    "start_time": "2022-10-03T21:49:39.831Z"
   },
   {
    "duration": 47,
    "start_time": "2022-10-03T21:49:41.028Z"
   },
   {
    "duration": 35,
    "start_time": "2022-10-03T21:49:41.077Z"
   },
   {
    "duration": 9,
    "start_time": "2022-10-03T21:49:41.113Z"
   },
   {
    "duration": 15,
    "start_time": "2022-10-03T21:49:41.125Z"
   },
   {
    "duration": 5,
    "start_time": "2022-10-03T21:49:41.142Z"
   },
   {
    "duration": 536,
    "start_time": "2022-10-03T21:49:41.149Z"
   },
   {
    "duration": 10,
    "start_time": "2022-10-03T21:49:41.695Z"
   },
   {
    "duration": 10,
    "start_time": "2022-10-03T21:49:41.707Z"
   },
   {
    "duration": 27,
    "start_time": "2022-10-03T21:49:41.719Z"
   },
   {
    "duration": 12,
    "start_time": "2022-10-03T21:49:41.748Z"
   },
   {
    "duration": 35,
    "start_time": "2022-10-03T21:49:41.762Z"
   },
   {
    "duration": 13,
    "start_time": "2022-10-03T21:49:41.803Z"
   },
   {
    "duration": 15,
    "start_time": "2022-10-03T21:49:41.820Z"
   },
   {
    "duration": 15,
    "start_time": "2022-10-03T21:49:41.837Z"
   },
   {
    "duration": 1256,
    "start_time": "2022-10-03T21:49:41.854Z"
   },
   {
    "duration": 1201,
    "start_time": "2022-10-03T21:51:00.504Z"
   },
   {
    "duration": 43,
    "start_time": "2022-10-03T21:51:01.708Z"
   },
   {
    "duration": 51,
    "start_time": "2022-10-03T21:51:01.753Z"
   },
   {
    "duration": 13,
    "start_time": "2022-10-03T21:51:01.809Z"
   },
   {
    "duration": 32,
    "start_time": "2022-10-03T21:51:01.825Z"
   },
   {
    "duration": 16,
    "start_time": "2022-10-03T21:51:01.859Z"
   },
   {
    "duration": 27,
    "start_time": "2022-10-03T21:51:01.877Z"
   },
   {
    "duration": 551,
    "start_time": "2022-10-03T21:51:01.906Z"
   },
   {
    "duration": 6,
    "start_time": "2022-10-03T21:51:02.459Z"
   },
   {
    "duration": 5,
    "start_time": "2022-10-03T21:51:02.466Z"
   },
   {
    "duration": 43,
    "start_time": "2022-10-03T21:51:02.473Z"
   },
   {
    "duration": 12,
    "start_time": "2022-10-03T21:51:02.518Z"
   },
   {
    "duration": 13,
    "start_time": "2022-10-03T21:51:02.533Z"
   },
   {
    "duration": 10,
    "start_time": "2022-10-03T21:51:02.548Z"
   },
   {
    "duration": 13,
    "start_time": "2022-10-03T21:51:02.588Z"
   },
   {
    "duration": 5,
    "start_time": "2022-10-03T21:51:02.603Z"
   },
   {
    "duration": 1225,
    "start_time": "2022-10-03T21:51:02.610Z"
   },
   {
    "duration": 138,
    "start_time": "2022-10-03T22:01:48.837Z"
   },
   {
    "duration": 1219,
    "start_time": "2022-10-03T22:01:55.196Z"
   },
   {
    "duration": 44,
    "start_time": "2022-10-03T22:01:56.417Z"
   },
   {
    "duration": 34,
    "start_time": "2022-10-03T22:01:56.462Z"
   },
   {
    "duration": 10,
    "start_time": "2022-10-03T22:01:56.497Z"
   },
   {
    "duration": 12,
    "start_time": "2022-10-03T22:01:56.510Z"
   },
   {
    "duration": 6,
    "start_time": "2022-10-03T22:01:56.524Z"
   },
   {
    "duration": 6,
    "start_time": "2022-10-03T22:01:56.532Z"
   },
   {
    "duration": 502,
    "start_time": "2022-10-03T22:01:56.540Z"
   },
   {
    "duration": 8,
    "start_time": "2022-10-03T22:01:57.044Z"
   },
   {
    "duration": 6,
    "start_time": "2022-10-03T22:01:57.054Z"
   },
   {
    "duration": 49,
    "start_time": "2022-10-03T22:01:57.062Z"
   },
   {
    "duration": 11,
    "start_time": "2022-10-03T22:01:57.113Z"
   },
   {
    "duration": 12,
    "start_time": "2022-10-03T22:01:57.126Z"
   },
   {
    "duration": 9,
    "start_time": "2022-10-03T22:01:57.140Z"
   },
   {
    "duration": 8,
    "start_time": "2022-10-03T22:01:57.150Z"
   },
   {
    "duration": 36,
    "start_time": "2022-10-03T22:01:57.160Z"
   },
   {
    "duration": 1323,
    "start_time": "2022-10-03T22:01:57.198Z"
   },
   {
    "duration": 1248,
    "start_time": "2022-10-03T22:02:36.761Z"
   },
   {
    "duration": 131,
    "start_time": "2022-10-03T22:05:08.631Z"
   },
   {
    "duration": 1138,
    "start_time": "2022-10-03T22:05:15.046Z"
   },
   {
    "duration": 47,
    "start_time": "2022-10-03T22:05:16.186Z"
   },
   {
    "duration": 33,
    "start_time": "2022-10-03T22:05:16.234Z"
   },
   {
    "duration": 8,
    "start_time": "2022-10-03T22:05:16.269Z"
   },
   {
    "duration": 15,
    "start_time": "2022-10-03T22:05:16.280Z"
   },
   {
    "duration": 11,
    "start_time": "2022-10-03T22:05:16.298Z"
   },
   {
    "duration": 6,
    "start_time": "2022-10-03T22:05:16.310Z"
   },
   {
    "duration": 500,
    "start_time": "2022-10-03T22:05:16.318Z"
   },
   {
    "duration": 7,
    "start_time": "2022-10-03T22:05:16.820Z"
   },
   {
    "duration": 5,
    "start_time": "2022-10-03T22:05:16.829Z"
   },
   {
    "duration": 24,
    "start_time": "2022-10-03T22:05:16.836Z"
   },
   {
    "duration": 16,
    "start_time": "2022-10-03T22:05:16.891Z"
   },
   {
    "duration": 14,
    "start_time": "2022-10-03T22:05:16.909Z"
   },
   {
    "duration": 9,
    "start_time": "2022-10-03T22:05:16.927Z"
   },
   {
    "duration": 9,
    "start_time": "2022-10-03T22:05:16.938Z"
   },
   {
    "duration": 4,
    "start_time": "2022-10-03T22:05:16.949Z"
   },
   {
    "duration": 1415,
    "start_time": "2022-10-03T22:05:16.955Z"
   },
   {
    "duration": 86,
    "start_time": "2022-10-03T22:06:14.198Z"
   },
   {
    "duration": 77,
    "start_time": "2022-10-03T22:06:29.918Z"
   },
   {
    "duration": 1345,
    "start_time": "2022-10-03T22:06:42.759Z"
   },
   {
    "duration": 1291,
    "start_time": "2022-10-03T22:07:53.430Z"
   },
   {
    "duration": 1336,
    "start_time": "2022-10-03T22:08:07.445Z"
   },
   {
    "duration": 656,
    "start_time": "2022-10-04T22:02:28.991Z"
   },
   {
    "duration": 11,
    "start_time": "2022-10-04T22:03:02.920Z"
   },
   {
    "duration": 679,
    "start_time": "2022-10-04T22:04:16.112Z"
   },
   {
    "duration": 13,
    "start_time": "2022-10-04T22:04:22.272Z"
   },
   {
    "duration": 10,
    "start_time": "2022-10-04T22:04:43.320Z"
   },
   {
    "duration": 1122,
    "start_time": "2022-10-04T22:04:53.305Z"
   },
   {
    "duration": 97,
    "start_time": "2022-10-04T22:04:54.429Z"
   },
   {
    "duration": 38,
    "start_time": "2022-10-04T22:04:54.528Z"
   },
   {
    "duration": 13,
    "start_time": "2022-10-04T22:04:54.569Z"
   },
   {
    "duration": 12,
    "start_time": "2022-10-04T22:04:54.585Z"
   },
   {
    "duration": 7,
    "start_time": "2022-10-04T22:04:54.599Z"
   },
   {
    "duration": 6,
    "start_time": "2022-10-04T22:04:54.608Z"
   },
   {
    "duration": 424,
    "start_time": "2022-10-04T22:04:54.615Z"
   },
   {
    "duration": 6,
    "start_time": "2022-10-04T22:04:55.041Z"
   },
   {
    "duration": 10,
    "start_time": "2022-10-04T22:04:55.049Z"
   },
   {
    "duration": 26,
    "start_time": "2022-10-04T22:04:55.060Z"
   },
   {
    "duration": 10,
    "start_time": "2022-10-04T22:04:55.101Z"
   },
   {
    "duration": 12,
    "start_time": "2022-10-04T22:04:55.113Z"
   },
   {
    "duration": 9,
    "start_time": "2022-10-04T22:04:55.126Z"
   },
   {
    "duration": 9,
    "start_time": "2022-10-04T22:04:55.136Z"
   },
   {
    "duration": 11,
    "start_time": "2022-10-04T22:04:55.146Z"
   },
   {
    "duration": 1134,
    "start_time": "2022-10-04T22:04:55.158Z"
   },
   {
    "duration": 73377,
    "start_time": "2022-10-04T22:05:55.356Z"
   },
   {
    "duration": 74382,
    "start_time": "2022-10-04T22:08:55.450Z"
   },
   {
    "duration": 103,
    "start_time": "2022-10-04T22:11:03.856Z"
   },
   {
    "duration": 70249,
    "start_time": "2022-10-04T22:12:20.199Z"
   },
   {
    "duration": 50,
    "start_time": "2022-10-04T22:28:19.898Z"
   },
   {
    "duration": 12,
    "start_time": "2022-10-04T22:28:26.729Z"
   },
   {
    "duration": 13,
    "start_time": "2022-10-04T22:28:51.097Z"
   },
   {
    "duration": 14,
    "start_time": "2022-10-04T22:29:18.369Z"
   },
   {
    "duration": 429,
    "start_time": "2022-10-04T22:30:28.128Z"
   },
   {
    "duration": 402,
    "start_time": "2022-10-04T22:32:10.888Z"
   },
   {
    "duration": 24,
    "start_time": "2022-10-04T22:32:27.225Z"
   },
   {
    "duration": 670,
    "start_time": "2022-10-04T22:32:52.735Z"
   },
   {
    "duration": 2050,
    "start_time": "2022-10-04T22:33:10.527Z"
   },
   {
    "duration": 19031,
    "start_time": "2022-10-04T22:33:54.682Z"
   },
   {
    "duration": 3447,
    "start_time": "2022-10-04T22:34:14.695Z"
   },
   {
    "duration": 13143,
    "start_time": "2022-10-04T22:35:03.276Z"
   },
   {
    "duration": 22104,
    "start_time": "2022-10-04T22:47:01.563Z"
   },
   {
    "duration": 1899,
    "start_time": "2022-10-04T22:47:59.713Z"
   },
   {
    "duration": 1028,
    "start_time": "2022-10-04T22:48:21.904Z"
   },
   {
    "duration": 42,
    "start_time": "2022-10-04T22:48:22.933Z"
   },
   {
    "duration": 28,
    "start_time": "2022-10-04T22:48:22.977Z"
   },
   {
    "duration": 8,
    "start_time": "2022-10-04T22:48:23.007Z"
   },
   {
    "duration": 10,
    "start_time": "2022-10-04T22:48:23.017Z"
   },
   {
    "duration": 5,
    "start_time": "2022-10-04T22:48:23.028Z"
   },
   {
    "duration": 12,
    "start_time": "2022-10-04T22:48:23.034Z"
   },
   {
    "duration": 414,
    "start_time": "2022-10-04T22:48:23.048Z"
   },
   {
    "duration": 6,
    "start_time": "2022-10-04T22:48:23.463Z"
   },
   {
    "duration": 9,
    "start_time": "2022-10-04T22:48:23.471Z"
   },
   {
    "duration": 32,
    "start_time": "2022-10-04T22:48:23.481Z"
   },
   {
    "duration": 9,
    "start_time": "2022-10-04T22:48:23.514Z"
   },
   {
    "duration": 10,
    "start_time": "2022-10-04T22:48:23.525Z"
   },
   {
    "duration": 9,
    "start_time": "2022-10-04T22:48:23.537Z"
   },
   {
    "duration": 8,
    "start_time": "2022-10-04T22:48:23.547Z"
   },
   {
    "duration": 5,
    "start_time": "2022-10-04T22:48:23.556Z"
   },
   {
    "duration": 1195,
    "start_time": "2022-10-04T22:48:23.562Z"
   },
   {
    "duration": 1978,
    "start_time": "2022-10-04T22:48:24.759Z"
   },
   {
    "duration": 1104,
    "start_time": "2022-10-16T21:44:42.387Z"
   },
   {
    "duration": 53,
    "start_time": "2022-10-16T21:44:43.493Z"
   },
   {
    "duration": 29,
    "start_time": "2022-10-16T21:44:43.548Z"
   },
   {
    "duration": 7,
    "start_time": "2022-10-16T21:44:43.579Z"
   },
   {
    "duration": 12,
    "start_time": "2022-10-16T21:44:43.588Z"
   },
   {
    "duration": 23,
    "start_time": "2022-10-16T21:44:43.601Z"
   },
   {
    "duration": 8,
    "start_time": "2022-10-16T21:44:43.626Z"
   },
   {
    "duration": 608,
    "start_time": "2022-10-16T21:44:43.636Z"
   },
   {
    "duration": 6,
    "start_time": "2022-10-16T21:44:44.247Z"
   },
   {
    "duration": 5,
    "start_time": "2022-10-16T21:44:44.255Z"
   },
   {
    "duration": 27,
    "start_time": "2022-10-16T21:44:44.261Z"
   },
   {
    "duration": 35,
    "start_time": "2022-10-16T21:44:44.290Z"
   },
   {
    "duration": 19,
    "start_time": "2022-10-16T21:44:44.327Z"
   },
   {
    "duration": 8,
    "start_time": "2022-10-16T21:44:44.348Z"
   },
   {
    "duration": 10,
    "start_time": "2022-10-16T21:44:44.358Z"
   },
   {
    "duration": 4,
    "start_time": "2022-10-16T21:44:44.370Z"
   },
   {
    "duration": 775,
    "start_time": "2022-10-16T21:44:44.375Z"
   },
   {
    "duration": 1537,
    "start_time": "2022-10-16T21:44:45.152Z"
   },
   {
    "duration": 7493,
    "start_time": "2022-10-16T21:48:45.043Z"
   },
   {
    "duration": 23626,
    "start_time": "2022-10-16T21:49:26.082Z"
   },
   {
    "duration": 32282,
    "start_time": "2022-10-16T21:50:21.946Z"
   },
   {
    "duration": 4685,
    "start_time": "2022-10-16T22:01:02.542Z"
   },
   {
    "duration": 3777,
    "start_time": "2022-10-16T22:01:44.548Z"
   },
   {
    "duration": 5466,
    "start_time": "2022-10-16T22:01:59.964Z"
   },
   {
    "duration": 7125,
    "start_time": "2022-10-16T22:04:21.196Z"
   },
   {
    "duration": 7345,
    "start_time": "2022-10-16T22:05:22.082Z"
   },
   {
    "duration": 7185,
    "start_time": "2022-10-16T22:06:32.436Z"
   },
   {
    "duration": 1096,
    "start_time": "2022-10-16T22:16:17.385Z"
   },
   {
    "duration": 29,
    "start_time": "2022-10-16T22:16:18.483Z"
   },
   {
    "duration": 31,
    "start_time": "2022-10-16T22:16:18.514Z"
   },
   {
    "duration": 8,
    "start_time": "2022-10-16T22:16:18.548Z"
   },
   {
    "duration": 16,
    "start_time": "2022-10-16T22:16:18.557Z"
   },
   {
    "duration": 6,
    "start_time": "2022-10-16T22:16:18.574Z"
   },
   {
    "duration": 7,
    "start_time": "2022-10-16T22:16:18.582Z"
   },
   {
    "duration": 457,
    "start_time": "2022-10-16T22:16:18.621Z"
   },
   {
    "duration": 6,
    "start_time": "2022-10-16T22:16:19.080Z"
   },
   {
    "duration": 41,
    "start_time": "2022-10-16T22:16:19.088Z"
   },
   {
    "duration": 35,
    "start_time": "2022-10-16T22:16:19.131Z"
   },
   {
    "duration": 26,
    "start_time": "2022-10-16T22:16:19.168Z"
   },
   {
    "duration": 52,
    "start_time": "2022-10-16T22:16:19.196Z"
   },
   {
    "duration": 23,
    "start_time": "2022-10-16T22:16:19.250Z"
   },
   {
    "duration": 18,
    "start_time": "2022-10-16T22:16:19.275Z"
   },
   {
    "duration": 7,
    "start_time": "2022-10-16T22:16:19.294Z"
   },
   {
    "duration": 790,
    "start_time": "2022-10-16T22:16:19.303Z"
   },
   {
    "duration": 32278,
    "start_time": "2022-10-16T22:16:20.094Z"
   },
   {
    "duration": 7654,
    "start_time": "2022-10-16T22:16:52.374Z"
   },
   {
    "duration": 92,
    "start_time": "2022-10-16T22:17:00.033Z"
   },
   {
    "duration": 118,
    "start_time": "2022-10-16T22:17:00.130Z"
   },
   {
    "duration": 0,
    "start_time": "2022-10-16T22:17:00.250Z"
   },
   {
    "duration": 105,
    "start_time": "2022-10-16T22:20:29.785Z"
   },
   {
    "duration": 25,
    "start_time": "2022-10-16T22:20:50.265Z"
   },
   {
    "duration": 8,
    "start_time": "2022-10-16T22:23:16.529Z"
   },
   {
    "duration": 7,
    "start_time": "2022-10-16T22:23:57.120Z"
   },
   {
    "duration": 9,
    "start_time": "2022-10-16T22:27:36.831Z"
   },
   {
    "duration": 10,
    "start_time": "2022-10-16T22:29:14.095Z"
   },
   {
    "duration": 281,
    "start_time": "2022-10-16T22:29:44.104Z"
   },
   {
    "duration": 305,
    "start_time": "2022-10-16T22:33:58.654Z"
   },
   {
    "duration": 308,
    "start_time": "2022-10-16T22:34:55.918Z"
   },
   {
    "duration": 362,
    "start_time": "2022-10-16T22:35:57.565Z"
   },
   {
    "duration": 78,
    "start_time": "2022-10-17T21:38:24.742Z"
   },
   {
    "duration": 41,
    "start_time": "2022-10-17T21:40:54.775Z"
   },
   {
    "duration": 1094,
    "start_time": "2022-10-17T21:41:06.552Z"
   },
   {
    "duration": 171,
    "start_time": "2022-10-17T21:41:07.648Z"
   },
   {
    "duration": 32,
    "start_time": "2022-10-17T21:41:07.821Z"
   },
   {
    "duration": 7,
    "start_time": "2022-10-17T21:41:07.855Z"
   },
   {
    "duration": 12,
    "start_time": "2022-10-17T21:41:07.864Z"
   },
   {
    "duration": 5,
    "start_time": "2022-10-17T21:41:07.877Z"
   },
   {
    "duration": 7,
    "start_time": "2022-10-17T21:41:07.884Z"
   },
   {
    "duration": 581,
    "start_time": "2022-10-17T21:41:07.892Z"
   },
   {
    "duration": 6,
    "start_time": "2022-10-17T21:41:08.474Z"
   },
   {
    "duration": 5,
    "start_time": "2022-10-17T21:41:08.481Z"
   },
   {
    "duration": 32,
    "start_time": "2022-10-17T21:41:08.487Z"
   },
   {
    "duration": 10,
    "start_time": "2022-10-17T21:41:08.521Z"
   },
   {
    "duration": 10,
    "start_time": "2022-10-17T21:41:08.532Z"
   },
   {
    "duration": 9,
    "start_time": "2022-10-17T21:41:08.544Z"
   },
   {
    "duration": 8,
    "start_time": "2022-10-17T21:41:08.554Z"
   },
   {
    "duration": 3,
    "start_time": "2022-10-17T21:41:08.563Z"
   },
   {
    "duration": 146,
    "start_time": "2022-10-17T21:41:08.568Z"
   },
   {
    "duration": 0,
    "start_time": "2022-10-17T21:41:08.715Z"
   },
   {
    "duration": 0,
    "start_time": "2022-10-17T21:41:08.716Z"
   },
   {
    "duration": 0,
    "start_time": "2022-10-17T21:41:08.717Z"
   },
   {
    "duration": 0,
    "start_time": "2022-10-17T21:41:08.719Z"
   },
   {
    "duration": 0,
    "start_time": "2022-10-17T21:41:08.719Z"
   },
   {
    "duration": 0,
    "start_time": "2022-10-17T21:41:08.720Z"
   },
   {
    "duration": 0,
    "start_time": "2022-10-17T21:41:08.721Z"
   },
   {
    "duration": 693,
    "start_time": "2022-10-17T21:41:30.245Z"
   },
   {
    "duration": 981,
    "start_time": "2022-10-17T21:42:33.671Z"
   },
   {
    "duration": 38,
    "start_time": "2022-10-17T21:42:34.654Z"
   },
   {
    "duration": 26,
    "start_time": "2022-10-17T21:42:34.694Z"
   },
   {
    "duration": 7,
    "start_time": "2022-10-17T21:42:34.722Z"
   },
   {
    "duration": 11,
    "start_time": "2022-10-17T21:42:34.730Z"
   },
   {
    "duration": 6,
    "start_time": "2022-10-17T21:42:34.742Z"
   },
   {
    "duration": 8,
    "start_time": "2022-10-17T21:42:34.749Z"
   },
   {
    "duration": 1396,
    "start_time": "2022-10-17T21:42:34.758Z"
   },
   {
    "duration": 6,
    "start_time": "2022-10-17T21:42:36.156Z"
   },
   {
    "duration": 3,
    "start_time": "2022-10-17T21:42:36.165Z"
   },
   {
    "duration": 20,
    "start_time": "2022-10-17T21:42:36.170Z"
   },
   {
    "duration": 9,
    "start_time": "2022-10-17T21:42:36.206Z"
   },
   {
    "duration": 10,
    "start_time": "2022-10-17T21:42:36.216Z"
   },
   {
    "duration": 25,
    "start_time": "2022-10-17T21:42:36.227Z"
   },
   {
    "duration": 8,
    "start_time": "2022-10-17T21:42:36.254Z"
   },
   {
    "duration": 5,
    "start_time": "2022-10-17T21:42:36.263Z"
   },
   {
    "duration": 728,
    "start_time": "2022-10-17T21:42:36.269Z"
   },
   {
    "duration": 30003,
    "start_time": "2022-10-17T21:42:37.004Z"
   },
   {
    "duration": 7000,
    "start_time": "2022-10-17T21:43:07.008Z"
   },
   {
    "duration": 94,
    "start_time": "2022-10-17T21:43:14.012Z"
   },
   {
    "duration": 35,
    "start_time": "2022-10-17T21:43:14.107Z"
   },
   {
    "duration": 8,
    "start_time": "2022-10-17T21:43:14.143Z"
   },
   {
    "duration": 304,
    "start_time": "2022-10-17T21:43:14.152Z"
   },
   {
    "duration": 754,
    "start_time": "2022-10-17T21:43:14.460Z"
   },
   {
    "duration": 701,
    "start_time": "2022-10-17T21:44:38.631Z"
   },
   {
    "duration": 657,
    "start_time": "2022-10-17T21:46:56.533Z"
   },
   {
    "duration": 666,
    "start_time": "2022-10-17T21:47:42.877Z"
   },
   {
    "duration": 29728,
    "start_time": "2022-10-17T22:00:46.210Z"
   },
   {
    "duration": 6727,
    "start_time": "2022-10-17T22:05:19.686Z"
   },
   {
    "duration": 10,
    "start_time": "2022-10-17T22:17:36.665Z"
   },
   {
    "duration": 10,
    "start_time": "2022-10-17T22:17:55.240Z"
   },
   {
    "duration": 10,
    "start_time": "2022-10-17T22:18:37.000Z"
   },
   {
    "duration": 124,
    "start_time": "2022-10-17T22:22:46.399Z"
   },
   {
    "duration": 9,
    "start_time": "2022-10-17T22:22:57.854Z"
   },
   {
    "duration": 990,
    "start_time": "2022-10-17T22:23:19.751Z"
   },
   {
    "duration": 39,
    "start_time": "2022-10-17T22:23:20.743Z"
   },
   {
    "duration": 27,
    "start_time": "2022-10-17T22:23:20.784Z"
   },
   {
    "duration": 7,
    "start_time": "2022-10-17T22:23:20.813Z"
   },
   {
    "duration": 11,
    "start_time": "2022-10-17T22:23:20.822Z"
   },
   {
    "duration": 6,
    "start_time": "2022-10-17T22:23:20.834Z"
   },
   {
    "duration": 13,
    "start_time": "2022-10-17T22:23:20.842Z"
   },
   {
    "duration": 422,
    "start_time": "2022-10-17T22:23:20.856Z"
   },
   {
    "duration": 5,
    "start_time": "2022-10-17T22:23:21.280Z"
   },
   {
    "duration": 23,
    "start_time": "2022-10-17T22:23:21.288Z"
   },
   {
    "duration": 20,
    "start_time": "2022-10-17T22:23:21.313Z"
   },
   {
    "duration": 9,
    "start_time": "2022-10-17T22:23:21.334Z"
   },
   {
    "duration": 12,
    "start_time": "2022-10-17T22:23:21.344Z"
   },
   {
    "duration": 10,
    "start_time": "2022-10-17T22:23:21.357Z"
   },
   {
    "duration": 8,
    "start_time": "2022-10-17T22:23:21.368Z"
   },
   {
    "duration": 28,
    "start_time": "2022-10-17T22:23:21.377Z"
   },
   {
    "duration": 722,
    "start_time": "2022-10-17T22:23:21.406Z"
   },
   {
    "duration": 20176,
    "start_time": "2022-10-17T22:23:22.130Z"
   },
   {
    "duration": 6702,
    "start_time": "2022-10-17T22:23:42.307Z"
   },
   {
    "duration": 8,
    "start_time": "2022-10-17T22:23:49.104Z"
   },
   {
    "duration": 27,
    "start_time": "2022-10-17T22:23:49.113Z"
   },
   {
    "duration": 7,
    "start_time": "2022-10-17T22:23:49.141Z"
   },
   {
    "duration": 292,
    "start_time": "2022-10-17T22:23:49.149Z"
   },
   {
    "duration": 367,
    "start_time": "2022-10-17T22:23:49.442Z"
   },
   {
    "duration": 181,
    "start_time": "2022-10-17T22:23:49.811Z"
   },
   {
    "duration": 0,
    "start_time": "2022-10-17T22:23:49.994Z"
   },
   {
    "duration": 10,
    "start_time": "2022-10-17T22:24:14.870Z"
   },
   {
    "duration": 10,
    "start_time": "2022-10-17T22:24:19.749Z"
   },
   {
    "duration": 1135,
    "start_time": "2022-10-17T22:28:13.854Z"
   },
   {
    "duration": 6,
    "start_time": "2022-10-17T22:29:09.996Z"
   },
   {
    "duration": 17,
    "start_time": "2022-10-17T22:29:31.668Z"
   },
   {
    "duration": 15,
    "start_time": "2022-10-17T22:39:14.992Z"
   },
   {
    "duration": 16,
    "start_time": "2022-10-17T22:48:08.941Z"
   },
   {
    "duration": 17,
    "start_time": "2022-10-17T22:50:34.740Z"
   },
   {
    "duration": 11,
    "start_time": "2022-10-17T22:50:58.324Z"
   },
   {
    "duration": 69,
    "start_time": "2022-10-17T22:51:32.227Z"
   },
   {
    "duration": 83,
    "start_time": "2022-10-17T22:52:20.995Z"
   },
   {
    "duration": 148,
    "start_time": "2022-10-17T22:52:34.099Z"
   },
   {
    "duration": 12,
    "start_time": "2022-10-17T22:52:49.826Z"
   },
   {
    "duration": 16,
    "start_time": "2022-10-17T22:52:55.387Z"
   },
   {
    "duration": 67,
    "start_time": "2022-10-17T22:54:10.275Z"
   },
   {
    "duration": 4,
    "start_time": "2022-10-17T22:54:22.581Z"
   },
   {
    "duration": 5,
    "start_time": "2022-10-17T22:54:28.025Z"
   },
   {
    "duration": 3,
    "start_time": "2022-10-17T22:54:31.594Z"
   },
   {
    "duration": 11,
    "start_time": "2022-10-17T22:54:41.322Z"
   },
   {
    "duration": 15,
    "start_time": "2022-10-17T22:54:51.202Z"
   },
   {
    "duration": 18,
    "start_time": "2022-10-17T22:58:28.505Z"
   },
   {
    "duration": 837,
    "start_time": "2022-10-17T23:00:04.936Z"
   },
   {
    "duration": 26363,
    "start_time": "2022-10-17T23:04:26.727Z"
   },
   {
    "duration": 47577,
    "start_time": "2022-10-17T23:05:32.030Z"
   },
   {
    "duration": 58645,
    "start_time": "2022-10-17T23:07:03.317Z"
   },
   {
    "duration": 57768,
    "start_time": "2022-10-17T23:08:31.422Z"
   },
   {
    "duration": 120028,
    "start_time": "2022-10-17T23:10:02.020Z"
   },
   {
    "duration": 187631,
    "start_time": "2022-10-17T23:12:30.700Z"
   },
   {
    "duration": 58020,
    "start_time": "2022-10-17T23:16:16.328Z"
   },
   {
    "duration": 395,
    "start_time": "2022-10-17T23:18:14.360Z"
   },
   {
    "duration": 406,
    "start_time": "2022-10-17T23:19:54.543Z"
   },
   {
    "duration": 9,
    "start_time": "2022-10-17T23:21:28.102Z"
   },
   {
    "duration": 36332,
    "start_time": "2022-10-17T23:22:41.422Z"
   },
   {
    "duration": 91652,
    "start_time": "2022-10-17T23:23:42.262Z"
   },
   {
    "duration": 9,
    "start_time": "2022-10-18T21:29:44.836Z"
   },
   {
    "duration": 1150,
    "start_time": "2022-10-18T21:29:55.622Z"
   },
   {
    "duration": 56,
    "start_time": "2022-10-18T21:29:56.774Z"
   },
   {
    "duration": 32,
    "start_time": "2022-10-18T21:29:56.831Z"
   },
   {
    "duration": 12,
    "start_time": "2022-10-18T21:29:56.865Z"
   },
   {
    "duration": 13,
    "start_time": "2022-10-18T21:29:56.879Z"
   },
   {
    "duration": 8,
    "start_time": "2022-10-18T21:29:56.921Z"
   },
   {
    "duration": 10,
    "start_time": "2022-10-18T21:29:56.930Z"
   },
   {
    "duration": 609,
    "start_time": "2022-10-18T21:29:56.941Z"
   },
   {
    "duration": 6,
    "start_time": "2022-10-18T21:29:57.552Z"
   },
   {
    "duration": 30,
    "start_time": "2022-10-18T21:29:57.560Z"
   },
   {
    "duration": 40,
    "start_time": "2022-10-18T21:29:57.592Z"
   },
   {
    "duration": 10,
    "start_time": "2022-10-18T21:29:57.634Z"
   },
   {
    "duration": 12,
    "start_time": "2022-10-18T21:29:57.646Z"
   },
   {
    "duration": 16,
    "start_time": "2022-10-18T21:29:57.662Z"
   },
   {
    "duration": 43,
    "start_time": "2022-10-18T21:29:57.680Z"
   },
   {
    "duration": 9,
    "start_time": "2022-10-18T21:29:57.724Z"
   },
   {
    "duration": 867,
    "start_time": "2022-10-18T21:29:57.735Z"
   },
   {
    "duration": 23054,
    "start_time": "2022-10-18T21:29:58.604Z"
   },
   {
    "duration": 8462,
    "start_time": "2022-10-18T21:30:21.660Z"
   },
   {
    "duration": 105,
    "start_time": "2022-10-18T21:30:30.124Z"
   },
   {
    "duration": 1066,
    "start_time": "2022-10-18T21:30:30.231Z"
   },
   {
    "duration": 107194,
    "start_time": "2022-10-18T21:30:31.299Z"
   },
   {
    "duration": 4,
    "start_time": "2022-10-18T21:32:18.495Z"
   },
   {
    "duration": 44,
    "start_time": "2022-10-18T21:32:18.501Z"
   },
   {
    "duration": 524,
    "start_time": "2022-10-18T21:32:18.547Z"
   },
   {
    "duration": 10,
    "start_time": "2022-10-18T21:33:49.979Z"
   },
   {
    "duration": 11,
    "start_time": "2022-10-18T21:34:21.556Z"
   },
   {
    "duration": 17,
    "start_time": "2022-10-18T21:35:20.091Z"
   },
   {
    "duration": 11,
    "start_time": "2022-10-18T21:35:22.442Z"
   },
   {
    "duration": 11,
    "start_time": "2022-10-18T21:35:24.028Z"
   },
   {
    "duration": 19,
    "start_time": "2022-10-18T21:35:41.624Z"
   },
   {
    "duration": 955,
    "start_time": "2022-10-18T21:35:44.675Z"
   },
   {
    "duration": 11,
    "start_time": "2022-10-18T21:37:45.786Z"
   },
   {
    "duration": 523,
    "start_time": "2022-10-18T21:42:17.599Z"
   },
   {
    "duration": 3,
    "start_time": "2022-10-18T21:51:56.075Z"
   },
   {
    "duration": 43654,
    "start_time": "2022-10-18T21:53:04.995Z"
   },
   {
    "duration": 56234,
    "start_time": "2022-10-18T21:54:21.139Z"
   },
   {
    "duration": 1001,
    "start_time": "2022-10-18T22:06:28.206Z"
   },
   {
    "duration": 961,
    "start_time": "2022-10-18T22:06:45.678Z"
   },
   {
    "duration": 974,
    "start_time": "2022-10-18T22:07:15.725Z"
   },
   {
    "duration": 107425,
    "start_time": "2022-10-18T22:09:34.789Z"
   },
   {
    "duration": 108192,
    "start_time": "2022-10-18T22:12:33.937Z"
   },
   {
    "duration": 501,
    "start_time": "2022-10-18T22:15:15.131Z"
   },
   {
    "duration": 356,
    "start_time": "2022-10-18T22:19:11.616Z"
   },
   {
    "duration": 56216,
    "start_time": "2022-10-18T22:19:25.360Z"
   },
   {
    "duration": 10182,
    "start_time": "2022-10-18T22:21:27.480Z"
   },
   {
    "duration": 42223,
    "start_time": "2022-10-18T22:21:40.376Z"
   },
   {
    "duration": 10,
    "start_time": "2022-10-18T22:31:36.755Z"
   },
   {
    "duration": 452,
    "start_time": "2022-10-18T22:31:38.946Z"
   },
   {
    "duration": 5812,
    "start_time": "2022-10-18T22:33:19.772Z"
   },
   {
    "duration": 127,
    "start_time": "2022-10-19T21:59:26.607Z"
   },
   {
    "duration": 1048,
    "start_time": "2022-10-19T21:59:34.833Z"
   },
   {
    "duration": 54,
    "start_time": "2022-10-19T21:59:35.883Z"
   },
   {
    "duration": 31,
    "start_time": "2022-10-19T21:59:35.938Z"
   },
   {
    "duration": 8,
    "start_time": "2022-10-19T21:59:35.971Z"
   },
   {
    "duration": 11,
    "start_time": "2022-10-19T21:59:35.981Z"
   },
   {
    "duration": 6,
    "start_time": "2022-10-19T21:59:35.993Z"
   },
   {
    "duration": 5,
    "start_time": "2022-10-19T21:59:36.022Z"
   },
   {
    "duration": 546,
    "start_time": "2022-10-19T21:59:36.029Z"
   },
   {
    "duration": 6,
    "start_time": "2022-10-19T21:59:36.577Z"
   },
   {
    "duration": 6,
    "start_time": "2022-10-19T21:59:36.584Z"
   },
   {
    "duration": 35,
    "start_time": "2022-10-19T21:59:36.592Z"
   },
   {
    "duration": 8,
    "start_time": "2022-10-19T21:59:36.629Z"
   },
   {
    "duration": 10,
    "start_time": "2022-10-19T21:59:36.639Z"
   },
   {
    "duration": 14,
    "start_time": "2022-10-19T21:59:36.651Z"
   },
   {
    "duration": 8,
    "start_time": "2022-10-19T21:59:36.667Z"
   },
   {
    "duration": 15,
    "start_time": "2022-10-19T21:59:36.680Z"
   },
   {
    "duration": 771,
    "start_time": "2022-10-19T21:59:36.697Z"
   },
   {
    "duration": 155,
    "start_time": "2022-10-19T21:59:37.470Z"
   },
   {
    "duration": 9998,
    "start_time": "2022-10-19T21:59:37.627Z"
   },
   {
    "duration": 100,
    "start_time": "2022-10-19T21:59:47.630Z"
   },
   {
    "duration": 21,
    "start_time": "2022-10-19T21:59:47.732Z"
   },
   {
    "duration": 911,
    "start_time": "2022-10-19T21:59:47.754Z"
   },
   {
    "duration": 98874,
    "start_time": "2022-10-19T21:59:48.666Z"
   },
   {
    "duration": 5,
    "start_time": "2022-10-19T22:01:27.542Z"
   },
   {
    "duration": 19,
    "start_time": "2022-10-19T22:01:27.549Z"
   },
   {
    "duration": 10,
    "start_time": "2022-10-19T22:01:27.570Z"
   },
   {
    "duration": 457,
    "start_time": "2022-10-19T22:01:27.582Z"
   },
   {
    "duration": 39271,
    "start_time": "2022-10-19T22:01:28.041Z"
   },
   {
    "duration": 14,
    "start_time": "2022-10-19T22:02:07.314Z"
   },
   {
    "duration": 5301,
    "start_time": "2022-10-19T22:02:07.329Z"
   },
   {
    "duration": 0,
    "start_time": "2022-10-19T22:02:12.632Z"
   },
   {
    "duration": 5298,
    "start_time": "2022-10-19T22:03:10.900Z"
   },
   {
    "duration": 999,
    "start_time": "2022-10-19T22:03:18.773Z"
   },
   {
    "duration": 28,
    "start_time": "2022-10-19T22:03:19.774Z"
   },
   {
    "duration": 27,
    "start_time": "2022-10-19T22:03:19.804Z"
   },
   {
    "duration": 7,
    "start_time": "2022-10-19T22:03:19.832Z"
   },
   {
    "duration": 10,
    "start_time": "2022-10-19T22:03:19.840Z"
   },
   {
    "duration": 5,
    "start_time": "2022-10-19T22:03:19.851Z"
   },
   {
    "duration": 7,
    "start_time": "2022-10-19T22:03:19.858Z"
   },
   {
    "duration": 381,
    "start_time": "2022-10-19T22:03:19.867Z"
   },
   {
    "duration": 6,
    "start_time": "2022-10-19T22:03:20.249Z"
   },
   {
    "duration": 5,
    "start_time": "2022-10-19T22:03:20.257Z"
   },
   {
    "duration": 21,
    "start_time": "2022-10-19T22:03:20.264Z"
   },
   {
    "duration": 9,
    "start_time": "2022-10-19T22:03:20.286Z"
   },
   {
    "duration": 34,
    "start_time": "2022-10-19T22:03:20.296Z"
   },
   {
    "duration": 10,
    "start_time": "2022-10-19T22:03:20.332Z"
   },
   {
    "duration": 8,
    "start_time": "2022-10-19T22:03:20.344Z"
   },
   {
    "duration": 4,
    "start_time": "2022-10-19T22:03:20.353Z"
   },
   {
    "duration": 790,
    "start_time": "2022-10-19T22:03:20.359Z"
   },
   {
    "duration": 139,
    "start_time": "2022-10-19T22:03:21.151Z"
   },
   {
    "duration": 11832,
    "start_time": "2022-10-19T22:03:21.292Z"
   },
   {
    "duration": 100,
    "start_time": "2022-10-19T22:03:33.126Z"
   },
   {
    "duration": 11,
    "start_time": "2022-10-19T22:03:33.228Z"
   },
   {
    "duration": 922,
    "start_time": "2022-10-19T22:03:33.241Z"
   },
   {
    "duration": 26953,
    "start_time": "2022-10-19T22:03:34.165Z"
   },
   {
    "duration": 4,
    "start_time": "2022-10-19T22:04:01.119Z"
   },
   {
    "duration": 30,
    "start_time": "2022-10-19T22:04:01.124Z"
   },
   {
    "duration": 19,
    "start_time": "2022-10-19T22:04:01.156Z"
   },
   {
    "duration": 457,
    "start_time": "2022-10-19T22:04:01.177Z"
   },
   {
    "duration": 39210,
    "start_time": "2022-10-19T22:04:01.637Z"
   },
   {
    "duration": 8,
    "start_time": "2022-10-19T22:04:40.849Z"
   },
   {
    "duration": 5013,
    "start_time": "2022-10-19T22:04:40.859Z"
   },
   {
    "duration": 0,
    "start_time": "2022-10-19T22:04:45.873Z"
   },
   {
    "duration": 12,
    "start_time": "2022-10-19T22:05:14.735Z"
   },
   {
    "duration": 2,
    "start_time": "2022-10-19T22:05:39.014Z"
   },
   {
    "duration": 12,
    "start_time": "2022-10-19T22:05:40.549Z"
   },
   {
    "duration": 29340,
    "start_time": "2022-10-19T22:06:05.846Z"
   },
   {
    "duration": 4422,
    "start_time": "2022-10-19T22:07:59.645Z"
   },
   {
    "duration": 49,
    "start_time": "2022-10-19T22:08:31.437Z"
   },
   {
    "duration": 49554,
    "start_time": "2022-10-19T22:08:48.892Z"
   },
   {
    "duration": 21363,
    "start_time": "2022-10-19T22:14:01.254Z"
   },
   {
    "duration": 25,
    "start_time": "2022-10-19T22:14:40.274Z"
   },
   {
    "duration": 70,
    "start_time": "2022-10-19T22:15:13.418Z"
   },
   {
    "duration": 43,
    "start_time": "2022-10-19T22:16:24.577Z"
   },
   {
    "duration": 0,
    "start_time": "2022-10-19T22:17:09.115Z"
   },
   {
    "duration": 45,
    "start_time": "2022-10-19T22:17:14.777Z"
   },
   {
    "duration": 10369,
    "start_time": "2022-10-19T22:17:27.176Z"
   },
   {
    "duration": 994,
    "start_time": "2022-10-19T22:23:10.880Z"
   },
   {
    "duration": 28,
    "start_time": "2022-10-19T22:23:11.876Z"
   },
   {
    "duration": 27,
    "start_time": "2022-10-19T22:23:11.905Z"
   },
   {
    "duration": 7,
    "start_time": "2022-10-19T22:23:11.933Z"
   },
   {
    "duration": 11,
    "start_time": "2022-10-19T22:23:11.942Z"
   },
   {
    "duration": 5,
    "start_time": "2022-10-19T22:23:11.954Z"
   },
   {
    "duration": 7,
    "start_time": "2022-10-19T22:23:11.960Z"
   },
   {
    "duration": 407,
    "start_time": "2022-10-19T22:23:11.968Z"
   },
   {
    "duration": 6,
    "start_time": "2022-10-19T22:23:12.377Z"
   },
   {
    "duration": 7,
    "start_time": "2022-10-19T22:23:12.385Z"
   },
   {
    "duration": 31,
    "start_time": "2022-10-19T22:23:12.393Z"
   },
   {
    "duration": 10,
    "start_time": "2022-10-19T22:23:12.425Z"
   },
   {
    "duration": 10,
    "start_time": "2022-10-19T22:23:12.436Z"
   },
   {
    "duration": 9,
    "start_time": "2022-10-19T22:23:12.449Z"
   },
   {
    "duration": 6,
    "start_time": "2022-10-19T22:23:12.460Z"
   },
   {
    "duration": 5,
    "start_time": "2022-10-19T22:23:12.468Z"
   },
   {
    "duration": 794,
    "start_time": "2022-10-19T22:23:12.474Z"
   },
   {
    "duration": 3,
    "start_time": "2022-10-19T22:23:13.269Z"
   },
   {
    "duration": 118837,
    "start_time": "2022-10-19T22:23:13.274Z"
   },
   {
    "duration": 0,
    "start_time": "2022-10-19T22:25:12.112Z"
   },
   {
    "duration": 0,
    "start_time": "2022-10-19T22:25:12.114Z"
   },
   {
    "duration": 0,
    "start_time": "2022-10-19T22:25:12.115Z"
   },
   {
    "duration": 0,
    "start_time": "2022-10-19T22:25:12.116Z"
   },
   {
    "duration": 0,
    "start_time": "2022-10-19T22:25:12.117Z"
   },
   {
    "duration": 0,
    "start_time": "2022-10-19T22:25:12.119Z"
   },
   {
    "duration": 0,
    "start_time": "2022-10-19T22:25:12.119Z"
   },
   {
    "duration": 0,
    "start_time": "2022-10-19T22:25:12.120Z"
   },
   {
    "duration": 0,
    "start_time": "2022-10-19T22:25:12.122Z"
   },
   {
    "duration": 0,
    "start_time": "2022-10-19T22:25:12.123Z"
   },
   {
    "duration": 0,
    "start_time": "2022-10-19T22:25:12.124Z"
   },
   {
    "duration": 0,
    "start_time": "2022-10-19T22:25:12.125Z"
   },
   {
    "duration": 21814,
    "start_time": "2022-10-19T22:25:36.517Z"
   },
   {
    "duration": 25,
    "start_time": "2022-10-19T22:28:35.571Z"
   },
   {
    "duration": 39,
    "start_time": "2022-10-19T22:28:43.021Z"
   },
   {
    "duration": 50,
    "start_time": "2022-10-19T22:28:54.347Z"
   },
   {
    "duration": 14,
    "start_time": "2022-10-19T22:29:08.995Z"
   },
   {
    "duration": 6,
    "start_time": "2022-10-19T22:30:25.866Z"
   },
   {
    "duration": 2,
    "start_time": "2022-10-19T22:30:36.243Z"
   },
   {
    "duration": 21485,
    "start_time": "2022-10-19T22:30:47.866Z"
   },
   {
    "duration": 1051,
    "start_time": "2022-10-19T22:32:39.059Z"
   },
   {
    "duration": 29,
    "start_time": "2022-10-19T22:32:40.112Z"
   },
   {
    "duration": 29,
    "start_time": "2022-10-19T22:32:40.145Z"
   },
   {
    "duration": 7,
    "start_time": "2022-10-19T22:32:40.176Z"
   },
   {
    "duration": 17,
    "start_time": "2022-10-19T22:32:40.185Z"
   },
   {
    "duration": 25,
    "start_time": "2022-10-19T22:32:40.203Z"
   },
   {
    "duration": 13,
    "start_time": "2022-10-19T22:32:40.230Z"
   },
   {
    "duration": 410,
    "start_time": "2022-10-19T22:32:40.244Z"
   },
   {
    "duration": 5,
    "start_time": "2022-10-19T22:32:40.656Z"
   },
   {
    "duration": 15,
    "start_time": "2022-10-19T22:32:40.662Z"
   },
   {
    "duration": 41,
    "start_time": "2022-10-19T22:32:40.678Z"
   },
   {
    "duration": 16,
    "start_time": "2022-10-19T22:32:40.721Z"
   },
   {
    "duration": 22,
    "start_time": "2022-10-19T22:32:40.739Z"
   },
   {
    "duration": 23,
    "start_time": "2022-10-19T22:32:40.763Z"
   },
   {
    "duration": 22,
    "start_time": "2022-10-19T22:32:40.787Z"
   },
   {
    "duration": 15,
    "start_time": "2022-10-19T22:32:40.810Z"
   },
   {
    "duration": 767,
    "start_time": "2022-10-19T22:32:40.827Z"
   },
   {
    "duration": 3,
    "start_time": "2022-10-19T22:32:41.595Z"
   },
   {
    "duration": 114758,
    "start_time": "2022-10-19T22:32:41.599Z"
   },
   {
    "duration": 8462,
    "start_time": "2022-10-19T22:34:36.359Z"
   },
   {
    "duration": 104,
    "start_time": "2022-10-19T22:34:44.824Z"
   },
   {
    "duration": 26,
    "start_time": "2022-10-19T22:34:44.930Z"
   },
   {
    "duration": 890,
    "start_time": "2022-10-19T22:34:44.958Z"
   },
   {
    "duration": 1058,
    "start_time": "2022-10-19T22:34:59.627Z"
   },
   {
    "duration": 28,
    "start_time": "2022-10-19T22:35:00.687Z"
   },
   {
    "duration": 27,
    "start_time": "2022-10-19T22:35:00.717Z"
   },
   {
    "duration": 11,
    "start_time": "2022-10-19T22:35:00.745Z"
   },
   {
    "duration": 23,
    "start_time": "2022-10-19T22:35:00.758Z"
   },
   {
    "duration": 27,
    "start_time": "2022-10-19T22:35:00.783Z"
   },
   {
    "duration": 21,
    "start_time": "2022-10-19T22:35:00.811Z"
   },
   {
    "duration": 423,
    "start_time": "2022-10-19T22:35:00.833Z"
   },
   {
    "duration": 6,
    "start_time": "2022-10-19T22:35:01.258Z"
   },
   {
    "duration": 18,
    "start_time": "2022-10-19T22:35:01.267Z"
   },
   {
    "duration": 31,
    "start_time": "2022-10-19T22:35:01.286Z"
   },
   {
    "duration": 13,
    "start_time": "2022-10-19T22:35:01.318Z"
   },
   {
    "duration": 20,
    "start_time": "2022-10-19T22:35:01.333Z"
   },
   {
    "duration": 22,
    "start_time": "2022-10-19T22:35:01.355Z"
   },
   {
    "duration": 9,
    "start_time": "2022-10-19T22:35:01.378Z"
   },
   {
    "duration": 39,
    "start_time": "2022-10-19T22:35:01.389Z"
   },
   {
    "duration": 778,
    "start_time": "2022-10-19T22:35:01.430Z"
   },
   {
    "duration": 3,
    "start_time": "2022-10-19T22:35:02.221Z"
   },
   {
    "duration": 199334,
    "start_time": "2022-10-19T22:35:02.226Z"
   },
   {
    "duration": 9971,
    "start_time": "2022-10-19T22:38:21.561Z"
   },
   {
    "duration": 99,
    "start_time": "2022-10-19T22:38:31.623Z"
   },
   {
    "duration": 10,
    "start_time": "2022-10-19T22:38:31.724Z"
   },
   {
    "duration": 873,
    "start_time": "2022-10-19T22:38:31.735Z"
   },
   {
    "duration": 98146,
    "start_time": "2022-10-19T22:38:32.609Z"
   },
   {
    "duration": 5,
    "start_time": "2022-10-19T22:40:10.757Z"
   },
   {
    "duration": 24,
    "start_time": "2022-10-19T22:40:10.763Z"
   },
   {
    "duration": 10,
    "start_time": "2022-10-19T22:40:10.788Z"
   },
   {
    "duration": 449,
    "start_time": "2022-10-19T22:40:10.800Z"
   },
   {
    "duration": 8795,
    "start_time": "2022-10-19T22:40:11.250Z"
   },
   {
    "duration": 8,
    "start_time": "2022-10-19T22:40:20.046Z"
   },
   {
    "duration": 5139,
    "start_time": "2022-10-19T22:40:20.055Z"
   },
   {
    "duration": 0,
    "start_time": "2022-10-19T22:40:25.200Z"
   },
   {
    "duration": 45,
    "start_time": "2022-10-19T22:42:44.517Z"
   },
   {
    "duration": 9,
    "start_time": "2022-10-19T22:44:59.540Z"
   },
   {
    "duration": 9,
    "start_time": "2022-10-19T22:45:13.244Z"
   },
   {
    "duration": 12,
    "start_time": "2022-10-19T22:45:29.859Z"
   },
   {
    "duration": 11,
    "start_time": "2022-10-19T22:45:48.668Z"
   },
   {
    "duration": 9,
    "start_time": "2022-10-19T22:46:46.476Z"
   },
   {
    "duration": 42,
    "start_time": "2022-10-19T22:47:30.299Z"
   },
   {
    "duration": 7,
    "start_time": "2022-10-19T22:48:02.827Z"
   },
   {
    "duration": 20,
    "start_time": "2022-10-19T22:49:49.291Z"
   },
   {
    "duration": 1112,
    "start_time": "2022-10-19T22:54:09.348Z"
   },
   {
    "duration": 27,
    "start_time": "2022-10-19T22:54:10.462Z"
   },
   {
    "duration": 32,
    "start_time": "2022-10-19T22:54:10.491Z"
   },
   {
    "duration": 6,
    "start_time": "2022-10-19T22:54:10.524Z"
   },
   {
    "duration": 6,
    "start_time": "2022-10-19T22:54:10.532Z"
   },
   {
    "duration": 13,
    "start_time": "2022-10-19T22:54:10.539Z"
   },
   {
    "duration": 11,
    "start_time": "2022-10-19T22:54:10.553Z"
   },
   {
    "duration": 8,
    "start_time": "2022-10-19T22:54:10.565Z"
   },
   {
    "duration": 440,
    "start_time": "2022-10-19T22:54:10.575Z"
   },
   {
    "duration": 9,
    "start_time": "2022-10-19T22:54:11.017Z"
   },
   {
    "duration": 5,
    "start_time": "2022-10-19T22:54:11.027Z"
   },
   {
    "duration": 23,
    "start_time": "2022-10-19T22:54:11.033Z"
   },
   {
    "duration": 8,
    "start_time": "2022-10-19T22:54:11.058Z"
   },
   {
    "duration": 12,
    "start_time": "2022-10-19T22:54:11.070Z"
   },
   {
    "duration": 43,
    "start_time": "2022-10-19T22:54:11.084Z"
   },
   {
    "duration": 8,
    "start_time": "2022-10-19T22:54:11.129Z"
   },
   {
    "duration": 9,
    "start_time": "2022-10-19T22:54:11.138Z"
   },
   {
    "duration": 117,
    "start_time": "2022-10-19T22:54:11.148Z"
   },
   {
    "duration": 0,
    "start_time": "2022-10-19T22:54:11.267Z"
   },
   {
    "duration": 0,
    "start_time": "2022-10-19T22:54:11.268Z"
   },
   {
    "duration": 0,
    "start_time": "2022-10-19T22:54:11.269Z"
   },
   {
    "duration": 0,
    "start_time": "2022-10-19T22:54:11.270Z"
   },
   {
    "duration": 0,
    "start_time": "2022-10-19T22:54:11.271Z"
   },
   {
    "duration": 0,
    "start_time": "2022-10-19T22:54:11.272Z"
   },
   {
    "duration": 0,
    "start_time": "2022-10-19T22:54:11.273Z"
   },
   {
    "duration": 0,
    "start_time": "2022-10-19T22:54:11.274Z"
   },
   {
    "duration": 0,
    "start_time": "2022-10-19T22:54:11.275Z"
   },
   {
    "duration": 0,
    "start_time": "2022-10-19T22:54:11.277Z"
   },
   {
    "duration": 0,
    "start_time": "2022-10-19T22:54:11.278Z"
   },
   {
    "duration": 0,
    "start_time": "2022-10-19T22:54:11.279Z"
   },
   {
    "duration": 0,
    "start_time": "2022-10-19T22:54:11.281Z"
   },
   {
    "duration": 0,
    "start_time": "2022-10-19T22:54:11.282Z"
   },
   {
    "duration": 7,
    "start_time": "2022-10-19T22:59:35.693Z"
   },
   {
    "duration": 4,
    "start_time": "2022-10-19T23:09:15.239Z"
   },
   {
    "duration": 4,
    "start_time": "2022-10-19T23:09:18.047Z"
   },
   {
    "duration": 3,
    "start_time": "2022-10-19T23:09:19.135Z"
   },
   {
    "duration": 3,
    "start_time": "2022-10-19T23:09:49.328Z"
   },
   {
    "duration": 5,
    "start_time": "2022-10-19T23:09:56.912Z"
   },
   {
    "duration": 3,
    "start_time": "2022-10-19T23:18:20.092Z"
   },
   {
    "duration": 9,
    "start_time": "2022-10-19T23:18:21.947Z"
   },
   {
    "duration": 9,
    "start_time": "2022-10-19T23:20:29.403Z"
   },
   {
    "duration": 9,
    "start_time": "2022-10-19T23:20:45.626Z"
   },
   {
    "duration": 9,
    "start_time": "2022-10-19T23:20:58.521Z"
   },
   {
    "duration": 8,
    "start_time": "2022-10-19T23:21:15.330Z"
   },
   {
    "duration": 9,
    "start_time": "2022-10-19T23:22:00.010Z"
   },
   {
    "duration": 9,
    "start_time": "2022-10-19T23:22:03.394Z"
   },
   {
    "duration": 8,
    "start_time": "2022-10-19T23:22:10.908Z"
   },
   {
    "duration": 1067,
    "start_time": "2022-10-19T23:22:17.005Z"
   },
   {
    "duration": 28,
    "start_time": "2022-10-19T23:22:18.074Z"
   },
   {
    "duration": 27,
    "start_time": "2022-10-19T23:22:18.103Z"
   },
   {
    "duration": 2,
    "start_time": "2022-10-19T23:22:18.131Z"
   },
   {
    "duration": 8,
    "start_time": "2022-10-19T23:22:18.134Z"
   },
   {
    "duration": 107,
    "start_time": "2022-10-19T23:22:18.143Z"
   },
   {
    "duration": 0,
    "start_time": "2022-10-19T23:22:18.253Z"
   },
   {
    "duration": 0,
    "start_time": "2022-10-19T23:22:18.254Z"
   },
   {
    "duration": 0,
    "start_time": "2022-10-19T23:22:18.255Z"
   },
   {
    "duration": 0,
    "start_time": "2022-10-19T23:22:18.257Z"
   },
   {
    "duration": 0,
    "start_time": "2022-10-19T23:22:18.259Z"
   },
   {
    "duration": 0,
    "start_time": "2022-10-19T23:22:18.260Z"
   },
   {
    "duration": 0,
    "start_time": "2022-10-19T23:22:18.261Z"
   },
   {
    "duration": 0,
    "start_time": "2022-10-19T23:22:18.262Z"
   },
   {
    "duration": 0,
    "start_time": "2022-10-19T23:22:18.263Z"
   },
   {
    "duration": 0,
    "start_time": "2022-10-19T23:22:18.264Z"
   },
   {
    "duration": 0,
    "start_time": "2022-10-19T23:22:18.265Z"
   },
   {
    "duration": 0,
    "start_time": "2022-10-19T23:22:18.265Z"
   },
   {
    "duration": 0,
    "start_time": "2022-10-19T23:22:18.266Z"
   },
   {
    "duration": 0,
    "start_time": "2022-10-19T23:22:18.267Z"
   },
   {
    "duration": 0,
    "start_time": "2022-10-19T23:22:18.268Z"
   },
   {
    "duration": 0,
    "start_time": "2022-10-19T23:22:18.269Z"
   },
   {
    "duration": 0,
    "start_time": "2022-10-19T23:22:18.270Z"
   },
   {
    "duration": 0,
    "start_time": "2022-10-19T23:22:18.271Z"
   },
   {
    "duration": 0,
    "start_time": "2022-10-19T23:22:18.272Z"
   },
   {
    "duration": 0,
    "start_time": "2022-10-19T23:22:18.273Z"
   },
   {
    "duration": 0,
    "start_time": "2022-10-19T23:22:18.274Z"
   },
   {
    "duration": 0,
    "start_time": "2022-10-19T23:22:18.275Z"
   },
   {
    "duration": 0,
    "start_time": "2022-10-19T23:22:18.276Z"
   },
   {
    "duration": 0,
    "start_time": "2022-10-19T23:22:18.276Z"
   },
   {
    "duration": 0,
    "start_time": "2022-10-19T23:22:18.277Z"
   },
   {
    "duration": 0,
    "start_time": "2022-10-19T23:22:18.278Z"
   },
   {
    "duration": 0,
    "start_time": "2022-10-19T23:22:18.279Z"
   },
   {
    "duration": 0,
    "start_time": "2022-10-19T23:22:18.322Z"
   },
   {
    "duration": 0,
    "start_time": "2022-10-19T23:22:18.323Z"
   },
   {
    "duration": 0,
    "start_time": "2022-10-19T23:22:18.324Z"
   },
   {
    "duration": 4,
    "start_time": "2022-10-19T23:23:12.910Z"
   },
   {
    "duration": 6,
    "start_time": "2022-10-19T23:23:35.477Z"
   },
   {
    "duration": 4,
    "start_time": "2022-10-19T23:23:44.230Z"
   },
   {
    "duration": 5,
    "start_time": "2022-10-19T23:24:13.549Z"
   },
   {
    "duration": 20,
    "start_time": "2022-10-19T23:24:30.748Z"
   },
   {
    "duration": 10,
    "start_time": "2022-10-19T23:26:27.925Z"
   },
   {
    "duration": 5,
    "start_time": "2022-10-19T23:26:36.636Z"
   },
   {
    "duration": 4,
    "start_time": "2022-10-19T23:26:51.348Z"
   },
   {
    "duration": 9,
    "start_time": "2022-10-19T23:28:47.877Z"
   },
   {
    "duration": 4,
    "start_time": "2022-10-19T23:28:59.795Z"
   },
   {
    "duration": 6,
    "start_time": "2022-10-19T23:29:04.771Z"
   },
   {
    "duration": 1021,
    "start_time": "2022-10-19T23:39:00.966Z"
   },
   {
    "duration": 28,
    "start_time": "2022-10-19T23:39:01.989Z"
   },
   {
    "duration": 28,
    "start_time": "2022-10-19T23:39:02.018Z"
   },
   {
    "duration": 3,
    "start_time": "2022-10-19T23:39:02.047Z"
   },
   {
    "duration": 11,
    "start_time": "2022-10-19T23:39:02.051Z"
   },
   {
    "duration": 104,
    "start_time": "2022-10-19T23:39:02.064Z"
   },
   {
    "duration": 0,
    "start_time": "2022-10-19T23:39:02.170Z"
   },
   {
    "duration": 0,
    "start_time": "2022-10-19T23:39:02.171Z"
   },
   {
    "duration": 0,
    "start_time": "2022-10-19T23:39:02.172Z"
   },
   {
    "duration": 0,
    "start_time": "2022-10-19T23:39:02.173Z"
   },
   {
    "duration": 0,
    "start_time": "2022-10-19T23:39:02.174Z"
   },
   {
    "duration": 0,
    "start_time": "2022-10-19T23:39:02.175Z"
   },
   {
    "duration": 0,
    "start_time": "2022-10-19T23:39:02.176Z"
   },
   {
    "duration": 0,
    "start_time": "2022-10-19T23:39:02.177Z"
   },
   {
    "duration": 0,
    "start_time": "2022-10-19T23:39:02.178Z"
   },
   {
    "duration": 0,
    "start_time": "2022-10-19T23:39:02.179Z"
   },
   {
    "duration": 0,
    "start_time": "2022-10-19T23:39:02.180Z"
   },
   {
    "duration": 0,
    "start_time": "2022-10-19T23:39:02.181Z"
   },
   {
    "duration": 0,
    "start_time": "2022-10-19T23:39:02.182Z"
   },
   {
    "duration": 0,
    "start_time": "2022-10-19T23:39:02.183Z"
   },
   {
    "duration": 0,
    "start_time": "2022-10-19T23:39:02.184Z"
   },
   {
    "duration": 0,
    "start_time": "2022-10-19T23:39:02.185Z"
   },
   {
    "duration": 0,
    "start_time": "2022-10-19T23:39:02.186Z"
   },
   {
    "duration": 0,
    "start_time": "2022-10-19T23:39:02.187Z"
   },
   {
    "duration": 0,
    "start_time": "2022-10-19T23:39:02.222Z"
   },
   {
    "duration": 0,
    "start_time": "2022-10-19T23:39:02.224Z"
   },
   {
    "duration": 0,
    "start_time": "2022-10-19T23:39:02.225Z"
   },
   {
    "duration": 0,
    "start_time": "2022-10-19T23:39:02.226Z"
   },
   {
    "duration": 0,
    "start_time": "2022-10-19T23:39:02.227Z"
   },
   {
    "duration": 0,
    "start_time": "2022-10-19T23:39:02.228Z"
   },
   {
    "duration": 0,
    "start_time": "2022-10-19T23:39:02.229Z"
   },
   {
    "duration": 0,
    "start_time": "2022-10-19T23:39:02.230Z"
   },
   {
    "duration": 0,
    "start_time": "2022-10-19T23:39:02.231Z"
   },
   {
    "duration": 0,
    "start_time": "2022-10-19T23:39:02.232Z"
   },
   {
    "duration": 0,
    "start_time": "2022-10-19T23:39:02.233Z"
   },
   {
    "duration": 0,
    "start_time": "2022-10-19T23:39:02.234Z"
   },
   {
    "duration": 0,
    "start_time": "2022-10-19T23:39:02.234Z"
   },
   {
    "duration": 2,
    "start_time": "2022-10-19T23:39:16.407Z"
   },
   {
    "duration": 983,
    "start_time": "2022-10-19T23:39:48.774Z"
   },
   {
    "duration": 28,
    "start_time": "2022-10-19T23:39:49.758Z"
   },
   {
    "duration": 27,
    "start_time": "2022-10-19T23:39:49.788Z"
   },
   {
    "duration": 2,
    "start_time": "2022-10-19T23:39:49.816Z"
   },
   {
    "duration": 5,
    "start_time": "2022-10-19T23:39:49.822Z"
   },
   {
    "duration": 4,
    "start_time": "2022-10-19T23:39:49.829Z"
   },
   {
    "duration": 5,
    "start_time": "2022-10-19T23:39:49.835Z"
   },
   {
    "duration": 5,
    "start_time": "2022-10-19T23:39:49.841Z"
   },
   {
    "duration": 4,
    "start_time": "2022-10-19T23:39:49.848Z"
   },
   {
    "duration": 9,
    "start_time": "2022-10-19T23:39:49.853Z"
   },
   {
    "duration": 10,
    "start_time": "2022-10-19T23:39:49.863Z"
   },
   {
    "duration": 5,
    "start_time": "2022-10-19T23:39:49.875Z"
   },
   {
    "duration": 5,
    "start_time": "2022-10-19T23:39:49.882Z"
   },
   {
    "duration": 419,
    "start_time": "2022-10-19T23:39:49.890Z"
   },
   {
    "duration": 12,
    "start_time": "2022-10-19T23:39:50.311Z"
   },
   {
    "duration": 3,
    "start_time": "2022-10-19T23:39:50.325Z"
   },
   {
    "duration": 22,
    "start_time": "2022-10-19T23:39:50.330Z"
   },
   {
    "duration": 8,
    "start_time": "2022-10-19T23:39:50.353Z"
   },
   {
    "duration": 9,
    "start_time": "2022-10-19T23:39:50.363Z"
   },
   {
    "duration": 10,
    "start_time": "2022-10-19T23:39:50.374Z"
   },
   {
    "duration": 36,
    "start_time": "2022-10-19T23:39:50.386Z"
   },
   {
    "duration": 4,
    "start_time": "2022-10-19T23:39:50.423Z"
   },
   {
    "duration": 835,
    "start_time": "2022-10-19T23:39:50.429Z"
   },
   {
    "duration": 2,
    "start_time": "2022-10-19T23:39:51.266Z"
   },
   {
    "duration": 22741,
    "start_time": "2022-10-19T23:39:51.270Z"
   },
   {
    "duration": 11012,
    "start_time": "2022-10-19T23:40:14.012Z"
   },
   {
    "duration": 111,
    "start_time": "2022-10-19T23:40:25.026Z"
   },
   {
    "duration": 19,
    "start_time": "2022-10-19T23:40:25.138Z"
   },
   {
    "duration": 1018,
    "start_time": "2022-10-19T23:40:25.158Z"
   },
   {
    "duration": 108359,
    "start_time": "2022-10-19T23:40:26.177Z"
   },
   {
    "duration": 4,
    "start_time": "2022-10-19T23:42:14.537Z"
   },
   {
    "duration": 24,
    "start_time": "2022-10-19T23:42:14.543Z"
   },
   {
    "duration": 10,
    "start_time": "2022-10-19T23:42:14.568Z"
   },
   {
    "duration": 480,
    "start_time": "2022-10-19T23:42:14.580Z"
   },
   {
    "duration": 42045,
    "start_time": "2022-10-19T23:42:15.062Z"
   },
   {
    "duration": 15,
    "start_time": "2022-10-19T23:42:57.109Z"
   },
   {
    "duration": 6022,
    "start_time": "2022-10-19T23:42:57.125Z"
   },
   {
    "duration": 6087,
    "start_time": "2022-10-19T23:45:19.121Z"
   },
   {
    "duration": 14,
    "start_time": "2022-10-19T23:45:25.211Z"
   },
   {
    "duration": 1036,
    "start_time": "2022-11-06T01:24:57.968Z"
   },
   {
    "duration": 83,
    "start_time": "2022-11-06T01:24:59.006Z"
   },
   {
    "duration": 31,
    "start_time": "2022-11-06T01:24:59.090Z"
   },
   {
    "duration": 2,
    "start_time": "2022-11-06T01:24:59.123Z"
   },
   {
    "duration": 8,
    "start_time": "2022-11-06T01:24:59.127Z"
   },
   {
    "duration": 6,
    "start_time": "2022-11-06T01:24:59.137Z"
   },
   {
    "duration": 7,
    "start_time": "2022-11-06T01:24:59.144Z"
   },
   {
    "duration": 7,
    "start_time": "2022-11-06T01:24:59.152Z"
   },
   {
    "duration": 12,
    "start_time": "2022-11-06T01:24:59.161Z"
   },
   {
    "duration": 6,
    "start_time": "2022-11-06T01:24:59.175Z"
   },
   {
    "duration": 27,
    "start_time": "2022-11-06T01:24:59.182Z"
   },
   {
    "duration": 594,
    "start_time": "2022-11-06T01:24:59.210Z"
   },
   {
    "duration": 7,
    "start_time": "2022-11-06T01:24:59.805Z"
   },
   {
    "duration": 6,
    "start_time": "2022-11-06T01:24:59.813Z"
   },
   {
    "duration": 24,
    "start_time": "2022-11-06T01:24:59.821Z"
   },
   {
    "duration": 9,
    "start_time": "2022-11-06T01:24:59.846Z"
   },
   {
    "duration": 14,
    "start_time": "2022-11-06T01:24:59.856Z"
   },
   {
    "duration": 12,
    "start_time": "2022-11-06T01:24:59.871Z"
   },
   {
    "duration": 32,
    "start_time": "2022-11-06T01:24:59.885Z"
   },
   {
    "duration": 5,
    "start_time": "2022-11-06T01:24:59.918Z"
   },
   {
    "duration": 1017,
    "start_time": "2022-11-06T01:24:59.924Z"
   },
   {
    "duration": 3,
    "start_time": "2022-11-06T01:25:00.942Z"
   },
   {
    "duration": 26323,
    "start_time": "2022-11-06T01:25:00.946Z"
   },
   {
    "duration": 7239,
    "start_time": "2022-11-06T01:25:27.271Z"
   },
   {
    "duration": 110,
    "start_time": "2022-11-06T01:25:34.512Z"
   },
   {
    "duration": 10,
    "start_time": "2022-11-06T01:25:34.624Z"
   },
   {
    "duration": 1214,
    "start_time": "2022-11-06T01:25:34.636Z"
   },
   {
    "duration": 127172,
    "start_time": "2022-11-06T01:25:35.854Z"
   },
   {
    "duration": 4,
    "start_time": "2022-11-06T01:27:43.027Z"
   },
   {
    "duration": 23,
    "start_time": "2022-11-06T01:27:43.033Z"
   },
   {
    "duration": 9,
    "start_time": "2022-11-06T01:27:43.058Z"
   },
   {
    "duration": 534,
    "start_time": "2022-11-06T01:27:43.069Z"
   },
   {
    "duration": 169154,
    "start_time": "2022-11-06T01:27:43.608Z"
   },
   {
    "duration": 8,
    "start_time": "2022-11-06T01:30:32.764Z"
   },
   {
    "duration": 6653,
    "start_time": "2022-11-06T01:30:32.774Z"
   }
  ],
  "kernelspec": {
   "display_name": "Python 3 (ipykernel)",
   "language": "python",
   "name": "python3"
  },
  "language_info": {
   "codemirror_mode": {
    "name": "ipython",
    "version": 3
   },
   "file_extension": ".py",
   "mimetype": "text/x-python",
   "name": "python",
   "nbconvert_exporter": "python",
   "pygments_lexer": "ipython3",
   "version": "3.9.7"
  },
  "toc": {
   "base_numbering": 1,
   "nav_menu": {},
   "number_sections": true,
   "sideBar": true,
   "skip_h1_title": true,
   "title_cell": "Содержание",
   "title_sidebar": "Contents",
   "toc_cell": true,
   "toc_position": {
    "height": "calc(100% - 180px)",
    "left": "10px",
    "top": "150px",
    "width": "359.176px"
   },
   "toc_section_display": true,
   "toc_window_display": true
  }
 },
 "nbformat": 4,
 "nbformat_minor": 2
}
